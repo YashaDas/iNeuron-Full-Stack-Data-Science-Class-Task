{
 "cells": [
  {
   "cell_type": "markdown",
   "id": "f7ed1f6f",
   "metadata": {},
   "source": [
    "# First Challenge assigned in Full Stack Data Science Class -- 29-05-22"
   ]
  },
  {
   "cell_type": "markdown",
   "id": "388079a3",
   "metadata": {},
   "source": [
    "### q1 : Try to print this by using while loop"
   ]
  },
  {
   "cell_type": "code",
   "execution_count": null,
   "id": "bd735f52",
   "metadata": {},
   "outputs": [],
   "source": [
    "* \n",
    "* * \n",
    "* * * \n",
    "* * * * \n",
    "* * * * * \n",
    "* * * * * * \n",
    "* * * * * * * \n",
    "* * * * * * * * \n",
    "* * * * * * * * * "
   ]
  },
  {
   "cell_type": "markdown",
   "id": "7c3a5d0a",
   "metadata": {},
   "source": [
    "##### SOLUTION:"
   ]
  },
  {
   "cell_type": "code",
   "execution_count": 1,
   "id": "2f965489",
   "metadata": {},
   "outputs": [
    {
     "name": "stdout",
     "output_type": "stream",
     "text": [
      "* \n",
      "* * \n",
      "* * * \n",
      "* * * * \n",
      "* * * * * \n",
      "* * * * * * \n",
      "* * * * * * * \n",
      "* * * * * * * * \n",
      "* * * * * * * * * \n"
     ]
    }
   ],
   "source": [
    "n = 9\n",
    "i = 1\n",
    "while i <= n :\n",
    "    j = 1\n",
    "    while j <= i:\n",
    "        print(\"*\", end = \" \")\n",
    "        j += 1\n",
    "    print()\n",
    "    i += 1"
   ]
  },
  {
   "cell_type": "markdown",
   "id": "ca402ed5",
   "metadata": {},
   "source": [
    "### q2 : Try to print below by using while loop :"
   ]
  },
  {
   "cell_type": "code",
   "execution_count": null,
   "id": "a0066724",
   "metadata": {},
   "outputs": [],
   "source": [
    "A\n",
    "B H \n",
    "C I N\n",
    "D J o S\n",
    "E K p T W\n",
    "F L Q U X z\n",
    "G M R V Y "
   ]
  },
  {
   "cell_type": "markdown",
   "id": "27cc822a",
   "metadata": {},
   "source": [
    "##### SOLUTION:"
   ]
  },
  {
   "cell_type": "code",
   "execution_count": null,
   "id": "d1725a8b",
   "metadata": {},
   "outputs": [],
   "source": []
  },
  {
   "cell_type": "markdown",
   "id": "0018484d",
   "metadata": {},
   "source": [
    "### q3 : Try to print all the number divisible by 3 in between a range of 40 - 400."
   ]
  },
  {
   "cell_type": "markdown",
   "id": "36938b5c",
   "metadata": {},
   "source": [
    "##### SOLUTION:"
   ]
  },
  {
   "cell_type": "code",
   "execution_count": 2,
   "id": "b9bc9506",
   "metadata": {},
   "outputs": [
    {
     "name": "stdout",
     "output_type": "stream",
     "text": [
      "[42, 45, 48, 51, 54, 57, 60, 63, 66, 69, 72, 75, 78, 81, 84, 87, 90, 93, 96, 99, 102, 105, 108, 111, 114, 117, 120, 123, 126, 129, 132, 135, 138, 141, 144, 147, 150, 153, 156, 159, 162, 165, 168, 171, 174, 177, 180, 183, 186, 189, 192, 195, 198, 201, 204, 207, 210, 213, 216, 219, 222, 225, 228, 231, 234, 237, 240, 243, 246, 249, 252, 255, 258, 261, 264, 267, 270, 273, 276, 279, 282, 285, 288, 291, 294, 297, 300, 303, 306, 309, 312, 315, 318, 321, 324, 327, 330, 333, 336, 339, 342, 345, 348, 351, 354, 357, 360, 363, 366, 369, 372, 375, 378, 381, 384, 387, 390, 393, 396, 399]\n"
     ]
    }
   ],
   "source": [
    "l = []\n",
    "for i in range(40, 400):\n",
    "    if i%3 == 0:\n",
    "        l.append(i)\n",
    "print(l)"
   ]
  },
  {
   "cell_type": "markdown",
   "id": "46ca1d8e",
   "metadata": {},
   "source": [
    "### q4 : Try to filter out all the vowels form below text by using while loop :"
   ]
  },
  {
   "cell_type": "code",
   "execution_count": null,
   "id": "62ab8f6b",
   "metadata": {},
   "outputs": [],
   "source": [
    "\"\"\"Python is a high-level, interpreted, general-purpose programming language. Its design philosophy emphasizes code readability with the use of significant indentation.[32]\n",
    "\n",
    "Python is dynamically-typed and garbage-collected. It supports multiple programming paradigms, including structured (particularly procedural), object-oriented and functional programming. It is often described as a \"batteries included\" language due to its comprehensive standard library.[33][34]\n",
    "\n",
    "Guido van Rossum began working on Python in the late 1980s as a successor to the ABC programming language and first released it in 1991 as Python 0.9.0.[35] Python 2.0 was released in 2000 and introduced new features such as list comprehensions, cycle-detecting garbage collection, reference counting, and Unicode support. Python 3.0, released in 2008, was a major revision that is not completely backward-compatible with earlier versions. Python 2 was discontinued with version 2.7.18 in 2020.[36]\n",
    "\n",
    "Python consistently ranks as one of the most popular programming languagesc\"\"\" "
   ]
  },
  {
   "cell_type": "markdown",
   "id": "311f58bf",
   "metadata": {},
   "source": [
    "##### SOLUTION:"
   ]
  },
  {
   "cell_type": "code",
   "execution_count": null,
   "id": "fd82dfbb",
   "metadata": {},
   "outputs": [],
   "source": []
  },
  {
   "cell_type": "markdown",
   "id": "9ff8a487",
   "metadata": {},
   "source": [
    "### q5 : Try to generate all the even number between 1- 1000."
   ]
  },
  {
   "cell_type": "markdown",
   "id": "09d5caf1",
   "metadata": {},
   "source": [
    "##### SOLUTION:"
   ]
  },
  {
   "cell_type": "code",
   "execution_count": 3,
   "id": "df1defe6",
   "metadata": {},
   "outputs": [
    {
     "name": "stdout",
     "output_type": "stream",
     "text": [
      "[2, 4, 6, 8, 10, 12, 14, 16, 18, 20, 22, 24, 26, 28, 30, 32, 34, 36, 38, 40, 42, 44, 46, 48, 50, 52, 54, 56, 58, 60, 62, 64, 66, 68, 70, 72, 74, 76, 78, 80, 82, 84, 86, 88, 90, 92, 94, 96, 98, 100, 102, 104, 106, 108, 110, 112, 114, 116, 118, 120, 122, 124, 126, 128, 130, 132, 134, 136, 138, 140, 142, 144, 146, 148, 150, 152, 154, 156, 158, 160, 162, 164, 166, 168, 170, 172, 174, 176, 178, 180, 182, 184, 186, 188, 190, 192, 194, 196, 198, 200, 202, 204, 206, 208, 210, 212, 214, 216, 218, 220, 222, 224, 226, 228, 230, 232, 234, 236, 238, 240, 242, 244, 246, 248, 250, 252, 254, 256, 258, 260, 262, 264, 266, 268, 270, 272, 274, 276, 278, 280, 282, 284, 286, 288, 290, 292, 294, 296, 298, 300, 302, 304, 306, 308, 310, 312, 314, 316, 318, 320, 322, 324, 326, 328, 330, 332, 334, 336, 338, 340, 342, 344, 346, 348, 350, 352, 354, 356, 358, 360, 362, 364, 366, 368, 370, 372, 374, 376, 378, 380, 382, 384, 386, 388, 390, 392, 394, 396, 398, 400, 402, 404, 406, 408, 410, 412, 414, 416, 418, 420, 422, 424, 426, 428, 430, 432, 434, 436, 438, 440, 442, 444, 446, 448, 450, 452, 454, 456, 458, 460, 462, 464, 466, 468, 470, 472, 474, 476, 478, 480, 482, 484, 486, 488, 490, 492, 494, 496, 498, 500, 502, 504, 506, 508, 510, 512, 514, 516, 518, 520, 522, 524, 526, 528, 530, 532, 534, 536, 538, 540, 542, 544, 546, 548, 550, 552, 554, 556, 558, 560, 562, 564, 566, 568, 570, 572, 574, 576, 578, 580, 582, 584, 586, 588, 590, 592, 594, 596, 598, 600, 602, 604, 606, 608, 610, 612, 614, 616, 618, 620, 622, 624, 626, 628, 630, 632, 634, 636, 638, 640, 642, 644, 646, 648, 650, 652, 654, 656, 658, 660, 662, 664, 666, 668, 670, 672, 674, 676, 678, 680, 682, 684, 686, 688, 690, 692, 694, 696, 698, 700, 702, 704, 706, 708, 710, 712, 714, 716, 718, 720, 722, 724, 726, 728, 730, 732, 734, 736, 738, 740, 742, 744, 746, 748, 750, 752, 754, 756, 758, 760, 762, 764, 766, 768, 770, 772, 774, 776, 778, 780, 782, 784, 786, 788, 790, 792, 794, 796, 798, 800, 802, 804, 806, 808, 810, 812, 814, 816, 818, 820, 822, 824, 826, 828, 830, 832, 834, 836, 838, 840, 842, 844, 846, 848, 850, 852, 854, 856, 858, 860, 862, 864, 866, 868, 870, 872, 874, 876, 878, 880, 882, 884, 886, 888, 890, 892, 894, 896, 898, 900, 902, 904, 906, 908, 910, 912, 914, 916, 918, 920, 922, 924, 926, 928, 930, 932, 934, 936, 938, 940, 942, 944, 946, 948, 950, 952, 954, 956, 958, 960, 962, 964, 966, 968, 970, 972, 974, 976, 978, 980, 982, 984, 986, 988, 990, 992, 994, 996, 998]\n"
     ]
    }
   ],
   "source": [
    "l2 = []\n",
    "for i in range(1, 1000):\n",
    "    if i%2 == 0:\n",
    "        l2.append(i)\n",
    "print(l2)"
   ]
  },
  {
   "cell_type": "markdown",
   "id": "71311cfd",
   "metadata": {},
   "source": [
    "### q6 : Define a function for all the above problem statement."
   ]
  },
  {
   "cell_type": "markdown",
   "id": "928de909",
   "metadata": {},
   "source": [
    "##### SOLUTION:"
   ]
  },
  {
   "cell_type": "code",
   "execution_count": null,
   "id": "abbe0123",
   "metadata": {},
   "outputs": [],
   "source": []
  },
  {
   "cell_type": "markdown",
   "id": "12f1a4f4",
   "metadata": {},
   "source": [
    "### q7 : Write a code to get a time of your system."
   ]
  },
  {
   "cell_type": "markdown",
   "id": "3428d20c",
   "metadata": {},
   "source": [
    "##### SOLUTION:"
   ]
  },
  {
   "cell_type": "code",
   "execution_count": 4,
   "id": "40a52585",
   "metadata": {},
   "outputs": [
    {
     "name": "stdout",
     "output_type": "stream",
     "text": [
      "System's time: 12:39:58\n"
     ]
    }
   ],
   "source": [
    "import time\n",
    "\n",
    "t = time.localtime()\n",
    "system_time = time.strftime(\"%H:%M:%S\", t)\n",
    "print(\"System's time:\", system_time)"
   ]
  },
  {
   "cell_type": "markdown",
   "id": "3774c581",
   "metadata": {},
   "source": [
    "### q8 : Write a code to fetch date form your system."
   ]
  },
  {
   "cell_type": "markdown",
   "id": "910cd3d6",
   "metadata": {},
   "source": [
    "##### SOLUTION:"
   ]
  },
  {
   "cell_type": "code",
   "execution_count": 5,
   "id": "79386d13",
   "metadata": {},
   "outputs": [
    {
     "name": "stdout",
     "output_type": "stream",
     "text": [
      "System's date: 2022-05-31\n"
     ]
    }
   ],
   "source": [
    "from datetime import date \n",
    "\n",
    "today = date.today()\n",
    "print(\"System's date:\", today)"
   ]
  },
  {
   "cell_type": "markdown",
   "id": "f2374c6b",
   "metadata": {},
   "source": [
    "### q9 : Write a code to send a mail to your friend."
   ]
  },
  {
   "cell_type": "markdown",
   "id": "cb04a286",
   "metadata": {},
   "source": [
    "##### SOLUTION:"
   ]
  },
  {
   "cell_type": "code",
   "execution_count": null,
   "id": "b5dd5a0e",
   "metadata": {},
   "outputs": [],
   "source": []
  },
  {
   "cell_type": "markdown",
   "id": "9369ea44",
   "metadata": {},
   "source": [
    "### q10 : Write a code to trigger alarm for you at scheduled time."
   ]
  },
  {
   "cell_type": "markdown",
   "id": "a3784b5b",
   "metadata": {},
   "source": [
    "##### SOLUTION:"
   ]
  },
  {
   "cell_type": "code",
   "execution_count": null,
   "id": "56f157dc",
   "metadata": {},
   "outputs": [],
   "source": []
  },
  {
   "cell_type": "markdown",
   "id": "ccf71da3",
   "metadata": {},
   "source": [
    "### q11 : Write a code to check ip address of your system."
   ]
  },
  {
   "cell_type": "markdown",
   "id": "96c8f7db",
   "metadata": {},
   "source": [
    "##### SOLUTION:"
   ]
  },
  {
   "cell_type": "code",
   "execution_count": 7,
   "id": "e131283c",
   "metadata": {},
   "outputs": [
    {
     "name": "stdout",
     "output_type": "stream",
     "text": [
      "System's IP Address is: 192.168.1.5\n"
     ]
    }
   ],
   "source": [
    "import socket   \n",
    " \n",
    "hostname = socket.gethostname()   \n",
    "IP_addr = socket.gethostbyname(hostname)   \n",
    "print(\"System's IP Address is:\" ,  IP_addr)"
   ]
  },
  {
   "cell_type": "markdown",
   "id": "d7633ee8",
   "metadata": {},
   "source": [
    "### q12 : Write a code to check a particular installation in your system."
   ]
  },
  {
   "cell_type": "markdown",
   "id": "52bc65cc",
   "metadata": {},
   "source": [
    "##### SOLUTION:"
   ]
  },
  {
   "cell_type": "code",
   "execution_count": null,
   "id": "e63da1ae",
   "metadata": {},
   "outputs": [],
   "source": []
  },
  {
   "cell_type": "markdown",
   "id": "dd668a12",
   "metadata": {},
   "source": [
    "### q13 : Write a code to convert any text in to voice."
   ]
  },
  {
   "cell_type": "markdown",
   "id": "8984aa14",
   "metadata": {},
   "source": [
    "##### SOLUTION:"
   ]
  },
  {
   "cell_type": "code",
   "execution_count": 1,
   "id": "6b233544",
   "metadata": {},
   "outputs": [
    {
     "name": "stdout",
     "output_type": "stream",
     "text": [
      "Requirement already satisfied: gTTS in c:\\users\\computers\\anaconda3\\lib\\site-packages (2.2.4)\n",
      "Requirement already satisfied: six in c:\\users\\computers\\anaconda3\\lib\\site-packages (from gTTS) (1.16.0)\n",
      "Requirement already satisfied: click in c:\\users\\computers\\anaconda3\\lib\\site-packages (from gTTS) (8.0.3)\n",
      "Requirement already satisfied: requests in c:\\users\\computers\\anaconda3\\lib\\site-packages (from gTTS) (2.26.0)\n",
      "Requirement already satisfied: colorama in c:\\users\\computers\\anaconda3\\lib\\site-packages (from click->gTTS) (0.4.4)\n",
      "Requirement already satisfied: certifi>=2017.4.17 in c:\\users\\computers\\anaconda3\\lib\\site-packages (from requests->gTTS) (2021.10.8)\n",
      "Requirement already satisfied: charset-normalizer~=2.0.0 in c:\\users\\computers\\anaconda3\\lib\\site-packages (from requests->gTTS) (2.0.4)\n",
      "Requirement already satisfied: idna<4,>=2.5 in c:\\users\\computers\\anaconda3\\lib\\site-packages (from requests->gTTS) (3.2)\n",
      "Requirement already satisfied: urllib3<1.27,>=1.21.1 in c:\\users\\computers\\anaconda3\\lib\\site-packages (from requests->gTTS) (1.26.7)\n"
     ]
    }
   ],
   "source": [
    "!pip install gTTS  "
   ]
  },
  {
   "cell_type": "code",
   "execution_count": 2,
   "id": "8965e212",
   "metadata": {},
   "outputs": [
    {
     "name": "stdout",
     "output_type": "stream",
     "text": [
      "Requirement already satisfied: playsound in c:\\users\\computers\\anaconda3\\lib\\site-packages (1.3.0)\n"
     ]
    }
   ],
   "source": [
    "!pip install playsound  "
   ]
  },
  {
   "cell_type": "code",
   "execution_count": 3,
   "id": "e7336847",
   "metadata": {},
   "outputs": [
    {
     "name": "stdout",
     "output_type": "stream",
     "text": [
      "Requirement already satisfied: pyttsx3 in c:\\users\\computers\\anaconda3\\lib\\site-packages (2.90)\n",
      "Requirement already satisfied: pywin32 in c:\\users\\computers\\anaconda3\\lib\\site-packages (from pyttsx3) (228)\n",
      "Requirement already satisfied: pypiwin32 in c:\\users\\computers\\anaconda3\\lib\\site-packages (from pyttsx3) (223)\n",
      "Requirement already satisfied: comtypes in c:\\users\\computers\\anaconda3\\lib\\site-packages (from pyttsx3) (1.1.10)\n"
     ]
    }
   ],
   "source": [
    "!pip install pyttsx3 "
   ]
  },
  {
   "cell_type": "code",
   "execution_count": 8,
   "id": "3e0ba6a0",
   "metadata": {},
   "outputs": [],
   "source": [
    "import pyttsx3  \n",
    "\n",
    "engine = pyttsx3.init()  \n",
    "\n",
    "text = \"text to voice\"\n",
    "engine.setProperty(\"rate\", 200)\n",
    "engine.say(text)  \n",
    " \n",
    "engine.runAndWait()  "
   ]
  },
  {
   "cell_type": "markdown",
   "id": "323923c3",
   "metadata": {},
   "source": [
    "### q14 : You have to write a fun which will take string and return a len of it without using a inbuilt fun len."
   ]
  },
  {
   "cell_type": "markdown",
   "id": "85b68f7c",
   "metadata": {},
   "source": [
    "##### SOLUTION:"
   ]
  },
  {
   "cell_type": "code",
   "execution_count": 1,
   "id": "7b5c895b",
   "metadata": {},
   "outputs": [],
   "source": [
    "def find_len_str(string):\n",
    "    counter = 0\n",
    "    if type(string) != str:\n",
    "        print(\"Please enter a string...\")\n",
    "    else:\n",
    "        for s in string:\n",
    "            counter += 1\n",
    "            string += s\n",
    "        return counter"
   ]
  },
  {
   "cell_type": "code",
   "execution_count": 2,
   "id": "1664d430",
   "metadata": {},
   "outputs": [
    {
     "data": {
      "text/plain": [
       "59"
      ]
     },
     "execution_count": 2,
     "metadata": {},
     "output_type": "execute_result"
    }
   ],
   "source": [
    "find_len_str(\"length of the string without using the inbuilt len function\")"
   ]
  },
  {
   "cell_type": "markdown",
   "id": "c4784e61",
   "metadata": {},
   "source": [
    "### q15 : Write a fun which will be able to print an index of all premitive element which you will pass."
   ]
  },
  {
   "cell_type": "markdown",
   "id": "611dffc5",
   "metadata": {},
   "source": [
    "##### SOLUTION:"
   ]
  },
  {
   "cell_type": "code",
   "execution_count": null,
   "id": "0b7cca49",
   "metadata": {},
   "outputs": [],
   "source": []
  },
  {
   "cell_type": "markdown",
   "id": "77f782cf",
   "metadata": {},
   "source": [
    "### q16 : Write a fun which will take input as a dict and give me out as a list of all the values even in case of 2 level nesting it should work."
   ]
  },
  {
   "cell_type": "markdown",
   "id": "f35c2125",
   "metadata": {},
   "source": [
    "##### SOLUTION:"
   ]
  },
  {
   "cell_type": "code",
   "execution_count": null,
   "id": "58b7ec03",
   "metadata": {},
   "outputs": [],
   "source": []
  },
  {
   "cell_type": "markdown",
   "id": "8e31e848",
   "metadata": {},
   "source": [
    "### q17 : Write a function which will take multiple list as a input and give me concatenation of all the element as and output."
   ]
  },
  {
   "cell_type": "markdown",
   "id": "3e56daaf",
   "metadata": {},
   "source": [
    "##### SOLUTION:"
   ]
  },
  {
   "cell_type": "code",
   "execution_count": null,
   "id": "e6e6eab6",
   "metadata": {},
   "outputs": [],
   "source": []
  },
  {
   "cell_type": "markdown",
   "id": "f01eba38",
   "metadata": {},
   "source": [
    "### q18 : Write a function which will would return list of all the file name from a directory."
   ]
  },
  {
   "cell_type": "markdown",
   "id": "5b613514",
   "metadata": {},
   "source": [
    "##### SOLUTION: "
   ]
  },
  {
   "cell_type": "code",
   "execution_count": 5,
   "id": "018562f2",
   "metadata": {},
   "outputs": [],
   "source": [
    "def return_lst_filename():\n",
    "    import os\n",
    "    path = input(\" \")\n",
    "    dir_list = os.listdir(path)\n",
    "    print(\"List of all the Files in '\", path, \"' :\") \n",
    "    print(dir_list)"
   ]
  },
  {
   "cell_type": "code",
   "execution_count": 6,
   "id": "f4e2a345",
   "metadata": {},
   "outputs": [
    {
     "name": "stdout",
     "output_type": "stream",
     "text": [
      " C:\\Users\\Computers\\Downloads\n",
      "List of all the Files in ' C:\\Users\\Computers\\Downloads ' :\n",
      "['Anaconda3-2021.11-Windows-x86_64.exe', 'BCA PROGRAMME GUIDE  CRC - July 2021.pdf', 'ChromeSetup.exe', 'CONTENTS.pdf', 'desktop.ini', 'fees transaction screen shot.jpg', 'four_seasons', 'HPSupportSolutionsFramework-12.19.53.13.exe', 'icon 1.jpg', 'icon 2.png', 'icon 3.jpg', 'Internet Speed.png', 'MEG-Programme Guide.pdf', 'milestone1.zip', 'project.pdf', 'proposal.pdf', 'pycharm-community-2022.1.exe', 'python programming.jfif', 'Python Programming.jpg', 'registration form 2.jpg', 'registration form symbol.jpg', 'registration form.jpg', 'Sample HTML code', 'sp111676.exe', 'Synopsis approved page.jpeg', 'Synopsis approved page.pdf', 'top4.zip', 'VSCodeUserSetup-x64-1.61.2.exe', 'wallpaper 1.png', 'wallpaper 2.jpg', 'wallpaper 3.jpg', 'wallpaper 4.png', 'wallpaper 5.jpg', 'wallpaper 6.jpg', 'Yasha Das Resume.docx', '__MACOSX']\n"
     ]
    }
   ],
   "source": [
    "return_lst_filename()"
   ]
  },
  {
   "cell_type": "markdown",
   "id": "785eb96b",
   "metadata": {},
   "source": [
    "### q19 : Write a function which will be able to read a image file and show it to you."
   ]
  },
  {
   "cell_type": "markdown",
   "id": "1ccbc7e4",
   "metadata": {},
   "source": [
    "##### SOLUTION:"
   ]
  },
  {
   "cell_type": "code",
   "execution_count": null,
   "id": "c2a31af1",
   "metadata": {},
   "outputs": [],
   "source": []
  },
  {
   "cell_type": "markdown",
   "id": "d4cabb2d",
   "metadata": {},
   "source": [
    "### q20 : Write a function by which you will be able to append two PDF files."
   ]
  },
  {
   "cell_type": "markdown",
   "id": "42b9fa4a",
   "metadata": {},
   "source": [
    "##### SOLUTION:"
   ]
  },
  {
   "cell_type": "code",
   "execution_count": null,
   "id": "f6ba9d0c",
   "metadata": {},
   "outputs": [],
   "source": []
  },
  {
   "cell_type": "markdown",
   "id": "f2b28cb1",
   "metadata": {},
   "source": [
    "### q21 : Write a function which can help you to filter only word file from a directory."
   ]
  },
  {
   "cell_type": "markdown",
   "id": "d3732b1b",
   "metadata": {},
   "source": [
    "##### SOLUTION:"
   ]
  },
  {
   "cell_type": "code",
   "execution_count": 9,
   "id": "94aa9520",
   "metadata": {},
   "outputs": [],
   "source": [
    "def filter_wordfile():\n",
    "    import os\n",
    "    path = input(\" \")\n",
    "    dir_list = os.listdir(path)\n",
    "    for file in os.listdir(path):\n",
    "        if file.endswith(\".docx\"):\n",
    "            print(\"List of only word files in \")\n",
    "            print(os.path.join('.', file))"
   ]
  },
  {
   "cell_type": "code",
   "execution_count": 11,
   "id": "d6b41e4a",
   "metadata": {},
   "outputs": [
    {
     "name": "stdout",
     "output_type": "stream",
     "text": [
      " C:\\Users\\Computers\\Documents\n",
      "List of only word files in \n",
      ".\\Class 10 -- Test 1 -- Answers.docx\n",
      "List of only word files in \n",
      ".\\Class 10 -- Test 1 -- Science.docx\n",
      "List of only word files in \n",
      ".\\MCQ Test 1 -- Class 10 Answers.docx\n",
      "List of only word files in \n",
      ".\\MCQ Test 1 -- Class 10.docx\n",
      "List of only word files in \n",
      ".\\Python Basic Assignment 20.docx\n",
      "List of only word files in \n",
      ".\\Python Basic Assignment 21.docx\n",
      "List of only word files in \n",
      ".\\Python Basic Assignment 22.docx\n",
      "List of only word files in \n",
      ".\\Python Basic Assignment 23.docx\n",
      "List of only word files in \n",
      ".\\Python Basic Assignment 24.docx\n",
      "List of only word files in \n",
      ".\\Python Basic Assignment 25.docx\n",
      "List of only word files in \n",
      ".\\Python Basic Programming Assignment 16.docx\n",
      "List of only word files in \n",
      ".\\Python Basic Programming Assignment 17.docx\n",
      "List of only word files in \n",
      ".\\Python Basic Programming Assignment 18.docx\n",
      "List of only word files in \n",
      ".\\Python Basic Programming Assignment 19.docx\n",
      "List of only word files in \n",
      ".\\Python Basic Programming Assignment 20.docx\n",
      "List of only word files in \n",
      ".\\Python Basic Programming Assignment 21.docx\n",
      "List of only word files in \n",
      ".\\Python Basic Programming Assignment 22.docx\n",
      "List of only word files in \n",
      ".\\Python Basic Programming Assignment 23.docx\n",
      "List of only word files in \n",
      ".\\Python Basic Programming Assignment 24.docx\n",
      "List of only word files in \n",
      ".\\Python Basic Programming Assignment 25.docx\n",
      "List of only word files in \n",
      ".\\Registration Form -- Das Coaching.docx\n",
      "List of only word files in \n",
      ".\\TASK from Sunday 15 May Class.docx\n"
     ]
    }
   ],
   "source": [
    "filter_wordfile()"
   ]
  },
  {
   "cell_type": "markdown",
   "id": "bb6a020e",
   "metadata": {},
   "source": [
    "### q22 : Write a function which can read video file and play for you."
   ]
  },
  {
   "cell_type": "markdown",
   "id": "7e75a584",
   "metadata": {},
   "source": [
    "##### SOLUTION:"
   ]
  },
  {
   "cell_type": "code",
   "execution_count": null,
   "id": "4ac2ed0d",
   "metadata": {},
   "outputs": [],
   "source": []
  },
  {
   "cell_type": "markdown",
   "id": "205b9829",
   "metadata": {},
   "source": [
    "### q23 : Write a function which will be able to shutdown your system."
   ]
  },
  {
   "cell_type": "markdown",
   "id": "429601e5",
   "metadata": {},
   "source": [
    "##### SOLUTION:"
   ]
  },
  {
   "cell_type": "code",
   "execution_count": 3,
   "id": "187780eb",
   "metadata": {},
   "outputs": [],
   "source": [
    "def shutdown():\n",
    "    import os\n",
    "    shutdown = input(\"Do you wish to shutdown your computer ? (yes / no): \")\n",
    "    if shutdown == 'no':\n",
    "        exit()\n",
    "    else:\n",
    "        os.system(\"shutdown /s /t 1\")"
   ]
  },
  {
   "cell_type": "code",
   "execution_count": 4,
   "id": "4d0c184f",
   "metadata": {},
   "outputs": [
    {
     "name": "stdout",
     "output_type": "stream",
     "text": [
      "Do you wish to shutdown your computer ? (yes / no): no\n"
     ]
    }
   ],
   "source": [
    "shutdown()"
   ]
  },
  {
   "cell_type": "markdown",
   "id": "0a6bfa68",
   "metadata": {},
   "source": [
    "### q24 : Write a function which will would return list of all the file name from a directory."
   ]
  },
  {
   "cell_type": "markdown",
   "id": "e01f47ee",
   "metadata": {},
   "source": [
    "##### SOLUTION: "
   ]
  },
  {
   "cell_type": "code",
   "execution_count": 7,
   "id": "4e8c7228",
   "metadata": {},
   "outputs": [],
   "source": [
    "def return_lst_filename():\n",
    "    import os\n",
    "    path = input(\" \")\n",
    "    dir_list = os.listdir(path)\n",
    "    print(\"List of all the Files in '\", path, \"' :\") \n",
    "    print(dir_list)"
   ]
  },
  {
   "cell_type": "code",
   "execution_count": 8,
   "id": "68a3a292",
   "metadata": {},
   "outputs": [
    {
     "name": "stdout",
     "output_type": "stream",
     "text": [
      " C:\\Users\\Computers\\Documents\n",
      "List of all the Files in ' C:\\Users\\Computers\\Documents ' :\n",
      "['.html', 'Class 10 -- Test 1 -- Answers.docx', 'Class 10 -- Test 1 -- Science.docx', 'desktop.ini', 'Hello me.html', 'MCQ Test 1 -- Class 10 Answers.docx', 'MCQ Test 1 -- Class 10.docx', 'My Music', 'My Pictures', 'My Videos', 'Python Basic Assignment 20.docx', 'Python Basic Assignment 21.docx', 'Python Basic Assignment 22.docx', 'Python Basic Assignment 23.docx', 'Python Basic Assignment 24.docx', 'Python Basic Assignment 25.docx', 'Python Basic Programming Assignment 16.docx', 'Python Basic Programming Assignment 17.docx', 'Python Basic Programming Assignment 18.docx', 'Python Basic Programming Assignment 19.docx', 'Python Basic Programming Assignment 20.docx', 'Python Basic Programming Assignment 21.docx', 'Python Basic Programming Assignment 22.docx', 'Python Basic Programming Assignment 23.docx', 'Python Basic Programming Assignment 24.docx', 'Python Basic Programming Assignment 25.docx', 'Python Scripts', 'Registration Form -- Das Coaching.docx', 'sigh.xlsx', 'TASK from Sunday 15 May Class.docx', 'Zoom', '__MACOSX']\n"
     ]
    }
   ],
   "source": [
    "return_lst_filename()"
   ]
  },
  {
   "cell_type": "markdown",
   "id": "b7f7fe1f",
   "metadata": {},
   "source": [
    "### q25 : Write a function which will be able to access your mail."
   ]
  },
  {
   "cell_type": "markdown",
   "id": "2a25447a",
   "metadata": {},
   "source": [
    "##### SOLUTION:"
   ]
  },
  {
   "cell_type": "code",
   "execution_count": null,
   "id": "75aaadc9",
   "metadata": {},
   "outputs": [],
   "source": []
  }
 ],
 "metadata": {
  "kernelspec": {
   "display_name": "Python 3 (ipykernel)",
   "language": "python",
   "name": "python3"
  },
  "language_info": {
   "codemirror_mode": {
    "name": "ipython",
    "version": 3
   },
   "file_extension": ".py",
   "mimetype": "text/x-python",
   "name": "python",
   "nbconvert_exporter": "python",
   "pygments_lexer": "ipython3",
   "version": "3.9.7"
  }
 },
 "nbformat": 4,
 "nbformat_minor": 5
}
