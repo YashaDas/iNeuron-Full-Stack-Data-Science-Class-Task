{
 "cells": [
  {
   "cell_type": "markdown",
   "id": "d116abd3",
   "metadata": {},
   "source": [
    "# Task assigned in Full Stack Data Science Class -- 05-06-22"
   ]
  },
  {
   "cell_type": "markdown",
   "id": "98f19b7f",
   "metadata": {},
   "source": [
    "### q1: Try to print a prime number in between 1 to 1000."
   ]
  },
  {
   "cell_type": "markdown",
   "id": "f00dfaee",
   "metadata": {},
   "source": [
    "##### SOLUTION:  "
   ]
  },
  {
   "cell_type": "code",
   "execution_count": 1,
   "id": "5db679b6",
   "metadata": {},
   "outputs": [],
   "source": [
    "def prime_number(a,b):\n",
    "    '''Generates a prime number between 1 to 1000'''\n",
    "    for i in range(a, b+1):\n",
    "        if i > 1:\n",
    "            for j in range(2, i):\n",
    "                if (i%j) == 0:\n",
    "                    break \n",
    "            else:\n",
    "                print(i)"
   ]
  },
  {
   "cell_type": "code",
   "execution_count": 6,
   "id": "e54eb027",
   "metadata": {
    "scrolled": false
   },
   "outputs": [
    {
     "name": "stdout",
     "output_type": "stream",
     "text": [
      "2\n",
      "3\n",
      "5\n",
      "7\n",
      "11\n",
      "13\n",
      "17\n",
      "19\n",
      "23\n",
      "29\n",
      "31\n",
      "37\n",
      "41\n",
      "43\n",
      "47\n",
      "53\n",
      "59\n",
      "61\n",
      "67\n",
      "71\n",
      "73\n",
      "79\n",
      "83\n",
      "89\n",
      "97\n",
      "101\n",
      "103\n",
      "107\n",
      "109\n",
      "113\n",
      "127\n",
      "131\n",
      "137\n",
      "139\n",
      "149\n",
      "151\n",
      "157\n",
      "163\n",
      "167\n",
      "173\n",
      "179\n",
      "181\n",
      "191\n",
      "193\n",
      "197\n",
      "199\n",
      "211\n",
      "223\n",
      "227\n",
      "229\n",
      "233\n",
      "239\n",
      "241\n",
      "251\n",
      "257\n",
      "263\n",
      "269\n",
      "271\n",
      "277\n",
      "281\n",
      "283\n",
      "293\n",
      "307\n",
      "311\n",
      "313\n",
      "317\n",
      "331\n",
      "337\n",
      "347\n",
      "349\n",
      "353\n",
      "359\n",
      "367\n",
      "373\n",
      "379\n",
      "383\n",
      "389\n",
      "397\n",
      "401\n",
      "409\n",
      "419\n",
      "421\n",
      "431\n",
      "433\n",
      "439\n",
      "443\n",
      "449\n",
      "457\n",
      "461\n",
      "463\n",
      "467\n",
      "479\n",
      "487\n",
      "491\n",
      "499\n",
      "503\n",
      "509\n",
      "521\n",
      "523\n",
      "541\n",
      "547\n",
      "557\n",
      "563\n",
      "569\n",
      "571\n",
      "577\n",
      "587\n",
      "593\n",
      "599\n",
      "601\n",
      "607\n",
      "613\n",
      "617\n",
      "619\n",
      "631\n",
      "641\n",
      "643\n",
      "647\n",
      "653\n",
      "659\n",
      "661\n",
      "673\n",
      "677\n",
      "683\n",
      "691\n",
      "701\n",
      "709\n",
      "719\n",
      "727\n",
      "733\n",
      "739\n",
      "743\n",
      "751\n",
      "757\n",
      "761\n",
      "769\n",
      "773\n",
      "787\n",
      "797\n",
      "809\n",
      "811\n",
      "821\n",
      "823\n",
      "827\n",
      "829\n",
      "839\n",
      "853\n",
      "857\n",
      "859\n",
      "863\n",
      "877\n",
      "881\n",
      "883\n",
      "887\n",
      "907\n",
      "911\n",
      "919\n",
      "929\n",
      "937\n",
      "941\n",
      "947\n",
      "953\n",
      "967\n",
      "971\n",
      "977\n",
      "983\n",
      "991\n",
      "997\n"
     ]
    }
   ],
   "source": [
    "prime_number(1,1000)"
   ]
  },
  {
   "cell_type": "markdown",
   "id": "f52a9d20",
   "metadata": {},
   "source": [
    "### q2: Try to write a function which is equivalent to print function in python."
   ]
  },
  {
   "cell_type": "markdown",
   "id": "7bcf46e7",
   "metadata": {},
   "source": [
    "##### SOLUTION:  "
   ]
  },
  {
   "cell_type": "code",
   "execution_count": 2,
   "id": "10b067b7",
   "metadata": {},
   "outputs": [],
   "source": [
    "def print_equivalent(str):\n",
    "    '''Performes a function equivalent to print function in python'''\n",
    "    return str"
   ]
  },
  {
   "cell_type": "code",
   "execution_count": 2,
   "id": "d7ef2a24",
   "metadata": {},
   "outputs": [
    {
     "data": {
      "text/plain": [
       "'Hello World'"
      ]
     },
     "execution_count": 2,
     "metadata": {},
     "output_type": "execute_result"
    }
   ],
   "source": [
    "print_equivalent(\"Hello World\")"
   ]
  },
  {
   "cell_type": "code",
   "execution_count": 3,
   "id": "3686c3cc",
   "metadata": {},
   "outputs": [
    {
     "data": {
      "text/plain": [
       "'123'"
      ]
     },
     "execution_count": 3,
     "metadata": {},
     "output_type": "execute_result"
    }
   ],
   "source": [
    "print_equivalent(\"123\")"
   ]
  },
  {
   "cell_type": "code",
   "execution_count": 4,
   "id": "aee45f80",
   "metadata": {},
   "outputs": [
    {
     "data": {
      "text/plain": [
       "123456789"
      ]
     },
     "execution_count": 4,
     "metadata": {},
     "output_type": "execute_result"
    }
   ],
   "source": [
    "print_equivalent(123456789)"
   ]
  },
  {
   "cell_type": "code",
   "execution_count": 6,
   "id": "286fc9cc",
   "metadata": {},
   "outputs": [
    {
     "data": {
      "text/plain": [
       "[1, 2, 3, 4]"
      ]
     },
     "execution_count": 6,
     "metadata": {},
     "output_type": "execute_result"
    }
   ],
   "source": [
    "print_equivalent([1,2,3,4])"
   ]
  },
  {
   "cell_type": "code",
   "execution_count": 7,
   "id": "e38df434",
   "metadata": {},
   "outputs": [
    {
     "data": {
      "text/plain": [
       "(34, 56, 72, 90)"
      ]
     },
     "execution_count": 7,
     "metadata": {},
     "output_type": "execute_result"
    }
   ],
   "source": [
    "print_equivalent((34,56,72,90))"
   ]
  },
  {
   "cell_type": "code",
   "execution_count": 8,
   "id": "458fa25a",
   "metadata": {},
   "outputs": [
    {
     "data": {
      "text/plain": [
       "{'k1': 'night', 'k2': 'day', 4: 5}"
      ]
     },
     "execution_count": 8,
     "metadata": {},
     "output_type": "execute_result"
    }
   ],
   "source": [
    "print_equivalent({'k1':'night', 'k2': 'day', 4:5})"
   ]
  },
  {
   "cell_type": "markdown",
   "id": "0fd4b98d",
   "metadata": {},
   "source": [
    "### q3: Try to write a function which is a replica of list append, extend and pop function."
   ]
  },
  {
   "cell_type": "markdown",
   "id": "509b7b78",
   "metadata": {},
   "source": [
    "##### SOLUTION:  "
   ]
  },
  {
   "cell_type": "code",
   "execution_count": null,
   "id": "02843df2",
   "metadata": {},
   "outputs": [],
   "source": []
  },
  {
   "cell_type": "markdown",
   "id": "f82eb640",
   "metadata": {},
   "source": [
    "### q4: Try to write a lambda function which can return a concatination of all the string that we will pass."
   ]
  },
  {
   "cell_type": "markdown",
   "id": "c264bc15",
   "metadata": {},
   "source": [
    "##### SOLUTION:  "
   ]
  },
  {
   "cell_type": "code",
   "execution_count": 1,
   "id": "7e13882a",
   "metadata": {},
   "outputs": [],
   "source": [
    "str_concat = lambda *args : [(''.join(args))]"
   ]
  },
  {
   "cell_type": "code",
   "execution_count": 2,
   "id": "747395d1",
   "metadata": {},
   "outputs": [
    {
     "data": {
      "text/plain": [
       "['iamastudent']"
      ]
     },
     "execution_count": 2,
     "metadata": {},
     "output_type": "execute_result"
    }
   ],
   "source": [
    "str_concat(\"i\",\"am\",\"a\",\"student\")"
   ]
  },
  {
   "cell_type": "markdown",
   "id": "dad238ab",
   "metadata": {},
   "source": [
    "### q5: Try to write a lambda function which can return list of square of all the data between 1 - 100."
   ]
  },
  {
   "cell_type": "markdown",
   "id": "c94fc4a5",
   "metadata": {},
   "source": [
    "##### SOLUTION:  "
   ]
  },
  {
   "cell_type": "code",
   "execution_count": 31,
   "id": "4b575196",
   "metadata": {},
   "outputs": [],
   "source": [
    "square = lambda a,b : [i**2 for i in range(a,b)]"
   ]
  },
  {
   "cell_type": "code",
   "execution_count": 35,
   "id": "0aaf6cbb",
   "metadata": {
    "scrolled": false
   },
   "outputs": [
    {
     "data": {
      "text/plain": [
       "[1,\n",
       " 4,\n",
       " 9,\n",
       " 16,\n",
       " 25,\n",
       " 36,\n",
       " 49,\n",
       " 64,\n",
       " 81,\n",
       " 100,\n",
       " 121,\n",
       " 144,\n",
       " 169,\n",
       " 196,\n",
       " 225,\n",
       " 256,\n",
       " 289,\n",
       " 324,\n",
       " 361,\n",
       " 400,\n",
       " 441,\n",
       " 484,\n",
       " 529,\n",
       " 576,\n",
       " 625,\n",
       " 676,\n",
       " 729,\n",
       " 784,\n",
       " 841,\n",
       " 900,\n",
       " 961,\n",
       " 1024,\n",
       " 1089,\n",
       " 1156,\n",
       " 1225,\n",
       " 1296,\n",
       " 1369,\n",
       " 1444,\n",
       " 1521,\n",
       " 1600,\n",
       " 1681,\n",
       " 1764,\n",
       " 1849,\n",
       " 1936,\n",
       " 2025,\n",
       " 2116,\n",
       " 2209,\n",
       " 2304,\n",
       " 2401,\n",
       " 2500,\n",
       " 2601,\n",
       " 2704,\n",
       " 2809,\n",
       " 2916,\n",
       " 3025,\n",
       " 3136,\n",
       " 3249,\n",
       " 3364,\n",
       " 3481,\n",
       " 3600,\n",
       " 3721,\n",
       " 3844,\n",
       " 3969,\n",
       " 4096,\n",
       " 4225,\n",
       " 4356,\n",
       " 4489,\n",
       " 4624,\n",
       " 4761,\n",
       " 4900,\n",
       " 5041,\n",
       " 5184,\n",
       " 5329,\n",
       " 5476,\n",
       " 5625,\n",
       " 5776,\n",
       " 5929,\n",
       " 6084,\n",
       " 6241,\n",
       " 6400,\n",
       " 6561,\n",
       " 6724,\n",
       " 6889,\n",
       " 7056,\n",
       " 7225,\n",
       " 7396,\n",
       " 7569,\n",
       " 7744,\n",
       " 7921,\n",
       " 8100,\n",
       " 8281,\n",
       " 8464,\n",
       " 8649,\n",
       " 8836,\n",
       " 9025,\n",
       " 9216,\n",
       " 9409,\n",
       " 9604,\n",
       " 9801]"
      ]
     },
     "execution_count": 35,
     "metadata": {},
     "output_type": "execute_result"
    }
   ],
   "source": [
    "square(1,100)"
   ]
  },
  {
   "cell_type": "code",
   "execution_count": 36,
   "id": "fca5a6b4",
   "metadata": {},
   "outputs": [],
   "source": [
    "sq = lambda : [i**2 for i in range(100)]"
   ]
  },
  {
   "cell_type": "code",
   "execution_count": 37,
   "id": "33473e73",
   "metadata": {
    "scrolled": false
   },
   "outputs": [
    {
     "data": {
      "text/plain": [
       "[0,\n",
       " 1,\n",
       " 4,\n",
       " 9,\n",
       " 16,\n",
       " 25,\n",
       " 36,\n",
       " 49,\n",
       " 64,\n",
       " 81,\n",
       " 100,\n",
       " 121,\n",
       " 144,\n",
       " 169,\n",
       " 196,\n",
       " 225,\n",
       " 256,\n",
       " 289,\n",
       " 324,\n",
       " 361,\n",
       " 400,\n",
       " 441,\n",
       " 484,\n",
       " 529,\n",
       " 576,\n",
       " 625,\n",
       " 676,\n",
       " 729,\n",
       " 784,\n",
       " 841,\n",
       " 900,\n",
       " 961,\n",
       " 1024,\n",
       " 1089,\n",
       " 1156,\n",
       " 1225,\n",
       " 1296,\n",
       " 1369,\n",
       " 1444,\n",
       " 1521,\n",
       " 1600,\n",
       " 1681,\n",
       " 1764,\n",
       " 1849,\n",
       " 1936,\n",
       " 2025,\n",
       " 2116,\n",
       " 2209,\n",
       " 2304,\n",
       " 2401,\n",
       " 2500,\n",
       " 2601,\n",
       " 2704,\n",
       " 2809,\n",
       " 2916,\n",
       " 3025,\n",
       " 3136,\n",
       " 3249,\n",
       " 3364,\n",
       " 3481,\n",
       " 3600,\n",
       " 3721,\n",
       " 3844,\n",
       " 3969,\n",
       " 4096,\n",
       " 4225,\n",
       " 4356,\n",
       " 4489,\n",
       " 4624,\n",
       " 4761,\n",
       " 4900,\n",
       " 5041,\n",
       " 5184,\n",
       " 5329,\n",
       " 5476,\n",
       " 5625,\n",
       " 5776,\n",
       " 5929,\n",
       " 6084,\n",
       " 6241,\n",
       " 6400,\n",
       " 6561,\n",
       " 6724,\n",
       " 6889,\n",
       " 7056,\n",
       " 7225,\n",
       " 7396,\n",
       " 7569,\n",
       " 7744,\n",
       " 7921,\n",
       " 8100,\n",
       " 8281,\n",
       " 8464,\n",
       " 8649,\n",
       " 8836,\n",
       " 9025,\n",
       " 9216,\n",
       " 9409,\n",
       " 9604,\n",
       " 9801]"
      ]
     },
     "execution_count": 37,
     "metadata": {},
     "output_type": "execute_result"
    }
   ],
   "source": [
    "sq()"
   ]
  },
  {
   "cell_type": "code",
   "execution_count": 38,
   "id": "980b984c",
   "metadata": {},
   "outputs": [],
   "source": [
    "sqq = lambda *x : [i**2 for i in range(100)]"
   ]
  },
  {
   "cell_type": "code",
   "execution_count": 41,
   "id": "a0706677",
   "metadata": {
    "scrolled": false
   },
   "outputs": [
    {
     "data": {
      "text/plain": [
       "[0,\n",
       " 1,\n",
       " 4,\n",
       " 9,\n",
       " 16,\n",
       " 25,\n",
       " 36,\n",
       " 49,\n",
       " 64,\n",
       " 81,\n",
       " 100,\n",
       " 121,\n",
       " 144,\n",
       " 169,\n",
       " 196,\n",
       " 225,\n",
       " 256,\n",
       " 289,\n",
       " 324,\n",
       " 361,\n",
       " 400,\n",
       " 441,\n",
       " 484,\n",
       " 529,\n",
       " 576,\n",
       " 625,\n",
       " 676,\n",
       " 729,\n",
       " 784,\n",
       " 841,\n",
       " 900,\n",
       " 961,\n",
       " 1024,\n",
       " 1089,\n",
       " 1156,\n",
       " 1225,\n",
       " 1296,\n",
       " 1369,\n",
       " 1444,\n",
       " 1521,\n",
       " 1600,\n",
       " 1681,\n",
       " 1764,\n",
       " 1849,\n",
       " 1936,\n",
       " 2025,\n",
       " 2116,\n",
       " 2209,\n",
       " 2304,\n",
       " 2401,\n",
       " 2500,\n",
       " 2601,\n",
       " 2704,\n",
       " 2809,\n",
       " 2916,\n",
       " 3025,\n",
       " 3136,\n",
       " 3249,\n",
       " 3364,\n",
       " 3481,\n",
       " 3600,\n",
       " 3721,\n",
       " 3844,\n",
       " 3969,\n",
       " 4096,\n",
       " 4225,\n",
       " 4356,\n",
       " 4489,\n",
       " 4624,\n",
       " 4761,\n",
       " 4900,\n",
       " 5041,\n",
       " 5184,\n",
       " 5329,\n",
       " 5476,\n",
       " 5625,\n",
       " 5776,\n",
       " 5929,\n",
       " 6084,\n",
       " 6241,\n",
       " 6400,\n",
       " 6561,\n",
       " 6724,\n",
       " 6889,\n",
       " 7056,\n",
       " 7225,\n",
       " 7396,\n",
       " 7569,\n",
       " 7744,\n",
       " 7921,\n",
       " 8100,\n",
       " 8281,\n",
       " 8464,\n",
       " 8649,\n",
       " 8836,\n",
       " 9025,\n",
       " 9216,\n",
       " 9409,\n",
       " 9604,\n",
       " 9801]"
      ]
     },
     "execution_count": 41,
     "metadata": {},
     "output_type": "execute_result"
    }
   ],
   "source": [
    "sqq(0,101)"
   ]
  },
  {
   "cell_type": "markdown",
   "id": "617f893e",
   "metadata": {},
   "source": [
    "### q6: Try to write a 10 different-different example of lambda function with a choice of your tasks."
   ]
  },
  {
   "cell_type": "markdown",
   "id": "ebcd9278",
   "metadata": {},
   "source": [
    "##### SOLUTION:  "
   ]
  },
  {
   "cell_type": "markdown",
   "id": "c09e5ac7",
   "metadata": {},
   "source": [
    "##### The following are 10 different-different examples of lambda function with some tasks of my choice:"
   ]
  },
  {
   "cell_type": "code",
   "execution_count": null,
   "id": "3ffca628",
   "metadata": {},
   "outputs": [],
   "source": [
    "# Example 1 : Addition"
   ]
  },
  {
   "cell_type": "code",
   "execution_count": 5,
   "id": "23d6772a",
   "metadata": {},
   "outputs": [],
   "source": [
    "add = lambda a, b : a + b"
   ]
  },
  {
   "cell_type": "code",
   "execution_count": 6,
   "id": "d19817e0",
   "metadata": {},
   "outputs": [
    {
     "data": {
      "text/plain": [
       "5"
      ]
     },
     "execution_count": 6,
     "metadata": {},
     "output_type": "execute_result"
    }
   ],
   "source": [
    "add(2,3)"
   ]
  },
  {
   "cell_type": "code",
   "execution_count": 7,
   "id": "e80b8b2a",
   "metadata": {},
   "outputs": [
    {
     "data": {
      "text/plain": [
       "134"
      ]
     },
     "execution_count": 7,
     "metadata": {},
     "output_type": "execute_result"
    }
   ],
   "source": [
    "add(34,100)"
   ]
  },
  {
   "cell_type": "code",
   "execution_count": null,
   "id": "7b77f6c3",
   "metadata": {},
   "outputs": [],
   "source": [
    "# Example 2: Subtaction"
   ]
  },
  {
   "cell_type": "code",
   "execution_count": 37,
   "id": "20bef080",
   "metadata": {},
   "outputs": [],
   "source": [
    "sub = lambda a, b : a - b"
   ]
  },
  {
   "cell_type": "code",
   "execution_count": 39,
   "id": "ebfc6d9a",
   "metadata": {},
   "outputs": [
    {
     "data": {
      "text/plain": [
       "3"
      ]
     },
     "execution_count": 39,
     "metadata": {},
     "output_type": "execute_result"
    }
   ],
   "source": [
    "sub(5,2)"
   ]
  },
  {
   "cell_type": "code",
   "execution_count": 40,
   "id": "fdb7d16f",
   "metadata": {},
   "outputs": [
    {
     "data": {
      "text/plain": [
       "-400"
      ]
     },
     "execution_count": 40,
     "metadata": {},
     "output_type": "execute_result"
    }
   ],
   "source": [
    "sub(300,700)"
   ]
  },
  {
   "cell_type": "code",
   "execution_count": null,
   "id": "45a828bb",
   "metadata": {},
   "outputs": [],
   "source": [
    "# Example 3: Division"
   ]
  },
  {
   "cell_type": "code",
   "execution_count": 49,
   "id": "89c4b2d4",
   "metadata": {},
   "outputs": [],
   "source": [
    "div = lambda a, b : a/b"
   ]
  },
  {
   "cell_type": "code",
   "execution_count": 50,
   "id": "ca4b5f8b",
   "metadata": {},
   "outputs": [
    {
     "data": {
      "text/plain": [
       "2.0"
      ]
     },
     "execution_count": 50,
     "metadata": {},
     "output_type": "execute_result"
    }
   ],
   "source": [
    "div(10,5)"
   ]
  },
  {
   "cell_type": "code",
   "execution_count": 51,
   "id": "8280ede5",
   "metadata": {},
   "outputs": [
    {
     "data": {
      "text/plain": [
       "30.0"
      ]
     },
     "execution_count": 51,
     "metadata": {},
     "output_type": "execute_result"
    }
   ],
   "source": [
    "div(90,3)"
   ]
  },
  {
   "cell_type": "code",
   "execution_count": null,
   "id": "a683a554",
   "metadata": {},
   "outputs": [],
   "source": [
    "# Example 4 : Multiplication"
   ]
  },
  {
   "cell_type": "code",
   "execution_count": 84,
   "id": "58924e52",
   "metadata": {},
   "outputs": [],
   "source": [
    "mul = lambda a, b : a*b"
   ]
  },
  {
   "cell_type": "code",
   "execution_count": 53,
   "id": "f6984023",
   "metadata": {},
   "outputs": [
    {
     "data": {
      "text/plain": [
       "150"
      ]
     },
     "execution_count": 53,
     "metadata": {},
     "output_type": "execute_result"
    }
   ],
   "source": [
    "mul(30,5)"
   ]
  },
  {
   "cell_type": "code",
   "execution_count": 54,
   "id": "5dd979f4",
   "metadata": {},
   "outputs": [
    {
     "data": {
      "text/plain": [
       "4"
      ]
     },
     "execution_count": 54,
     "metadata": {},
     "output_type": "execute_result"
    }
   ],
   "source": [
    "mul(2,2)"
   ]
  },
  {
   "cell_type": "code",
   "execution_count": null,
   "id": "11ca0902",
   "metadata": {},
   "outputs": [],
   "source": [
    "# Example 5 : Square of a number"
   ]
  },
  {
   "cell_type": "code",
   "execution_count": 78,
   "id": "9e1ac2d0",
   "metadata": {},
   "outputs": [],
   "source": [
    "square = lambda *x : [i**2 for i in x]"
   ]
  },
  {
   "cell_type": "code",
   "execution_count": 56,
   "id": "2d61c334",
   "metadata": {},
   "outputs": [
    {
     "data": {
      "text/plain": [
       "16"
      ]
     },
     "execution_count": 56,
     "metadata": {},
     "output_type": "execute_result"
    }
   ],
   "source": [
    "square(4)"
   ]
  },
  {
   "cell_type": "code",
   "execution_count": 57,
   "id": "0adbc4f0",
   "metadata": {},
   "outputs": [
    {
     "data": {
      "text/plain": [
       "169"
      ]
     },
     "execution_count": 57,
     "metadata": {},
     "output_type": "execute_result"
    }
   ],
   "source": [
    "square(13)"
   ]
  },
  {
   "cell_type": "code",
   "execution_count": 79,
   "id": "5aac0eb5",
   "metadata": {},
   "outputs": [
    {
     "data": {
      "text/plain": [
       "[9, 49, 400]"
      ]
     },
     "execution_count": 79,
     "metadata": {},
     "output_type": "execute_result"
    }
   ],
   "source": [
    "square(3,7,20)"
   ]
  },
  {
   "cell_type": "code",
   "execution_count": null,
   "id": "0d6e8d67",
   "metadata": {},
   "outputs": [],
   "source": [
    "# Example 6 : Cube of a number"
   ]
  },
  {
   "cell_type": "code",
   "execution_count": 80,
   "id": "794677b2",
   "metadata": {},
   "outputs": [],
   "source": [
    "cube = lambda *x : [i**3 for i in x]"
   ]
  },
  {
   "cell_type": "code",
   "execution_count": 10,
   "id": "770ca9ae",
   "metadata": {},
   "outputs": [
    {
     "data": {
      "text/plain": [
       "125"
      ]
     },
     "execution_count": 10,
     "metadata": {},
     "output_type": "execute_result"
    }
   ],
   "source": [
    "cube(5)"
   ]
  },
  {
   "cell_type": "code",
   "execution_count": 11,
   "id": "4d4306f1",
   "metadata": {},
   "outputs": [
    {
     "data": {
      "text/plain": [
       "8000000"
      ]
     },
     "execution_count": 11,
     "metadata": {},
     "output_type": "execute_result"
    }
   ],
   "source": [
    "cube(200)"
   ]
  },
  {
   "cell_type": "code",
   "execution_count": 81,
   "id": "24447571",
   "metadata": {},
   "outputs": [
    {
     "data": {
      "text/plain": [
       "[8, 64, 216, 343]"
      ]
     },
     "execution_count": 81,
     "metadata": {},
     "output_type": "execute_result"
    }
   ],
   "source": [
    "cube(2,4,6,7)"
   ]
  },
  {
   "cell_type": "code",
   "execution_count": null,
   "id": "244660b6",
   "metadata": {},
   "outputs": [],
   "source": [
    "# Example 7 : Greater than or maximum number"
   ]
  },
  {
   "cell_type": "code",
   "execution_count": 58,
   "id": "8a7a19a3",
   "metadata": {},
   "outputs": [],
   "source": [
    "max_num = lambda a, b : a if (a > b) else b"
   ]
  },
  {
   "cell_type": "code",
   "execution_count": 59,
   "id": "7a91f045",
   "metadata": {},
   "outputs": [
    {
     "data": {
      "text/plain": [
       "18"
      ]
     },
     "execution_count": 59,
     "metadata": {},
     "output_type": "execute_result"
    }
   ],
   "source": [
    "max_num(9,18)"
   ]
  },
  {
   "cell_type": "code",
   "execution_count": 60,
   "id": "9b9ab317",
   "metadata": {},
   "outputs": [
    {
     "data": {
      "text/plain": [
       "90"
      ]
     },
     "execution_count": 60,
     "metadata": {},
     "output_type": "execute_result"
    }
   ],
   "source": [
    "max_num(90,2)"
   ]
  },
  {
   "cell_type": "code",
   "execution_count": null,
   "id": "7e5f8416",
   "metadata": {},
   "outputs": [],
   "source": [
    "# Example 8: Lesser than or minimum number"
   ]
  },
  {
   "cell_type": "code",
   "execution_count": 61,
   "id": "4a08a6aa",
   "metadata": {},
   "outputs": [],
   "source": [
    "min_num = lambda a, b : a if (a < b) else b"
   ]
  },
  {
   "cell_type": "code",
   "execution_count": 62,
   "id": "e95af0be",
   "metadata": {},
   "outputs": [
    {
     "data": {
      "text/plain": [
       "4"
      ]
     },
     "execution_count": 62,
     "metadata": {},
     "output_type": "execute_result"
    }
   ],
   "source": [
    "min_num(30,4)"
   ]
  },
  {
   "cell_type": "code",
   "execution_count": 63,
   "id": "cd9beda9",
   "metadata": {},
   "outputs": [
    {
     "data": {
      "text/plain": [
       "3"
      ]
     },
     "execution_count": 63,
     "metadata": {},
     "output_type": "execute_result"
    }
   ],
   "source": [
    "min_num(3,40)"
   ]
  },
  {
   "cell_type": "code",
   "execution_count": null,
   "id": "490097df",
   "metadata": {},
   "outputs": [],
   "source": [
    "# Example 9: Upper case"
   ]
  },
  {
   "cell_type": "code",
   "execution_count": 64,
   "id": "31e381fb",
   "metadata": {},
   "outputs": [],
   "source": [
    "upper_case = lambda s : str.upper(s) "
   ]
  },
  {
   "cell_type": "code",
   "execution_count": 66,
   "id": "0d04dd36",
   "metadata": {},
   "outputs": [
    {
     "data": {
      "text/plain": [
       "'INEURON'"
      ]
     },
     "execution_count": 66,
     "metadata": {},
     "output_type": "execute_result"
    }
   ],
   "source": [
    "upper_case(\"ineuron\")"
   ]
  },
  {
   "cell_type": "code",
   "execution_count": null,
   "id": "3e713c3a",
   "metadata": {},
   "outputs": [],
   "source": [
    "# Example 10: Lower case"
   ]
  },
  {
   "cell_type": "code",
   "execution_count": 69,
   "id": "a4786f89",
   "metadata": {},
   "outputs": [],
   "source": [
    "lower_case = lambda s : str.lower(s)"
   ]
  },
  {
   "cell_type": "code",
   "execution_count": 70,
   "id": "f159e23d",
   "metadata": {},
   "outputs": [
    {
     "data": {
      "text/plain": [
       "'this is a string that is converted into lower case using lambda function'"
      ]
     },
     "execution_count": 70,
     "metadata": {},
     "output_type": "execute_result"
    }
   ],
   "source": [
    "lower_case(\"This is a STRING that is converted into LOWER CASE using LAMBDA function\")"
   ]
  },
  {
   "cell_type": "markdown",
   "id": "38bee092",
   "metadata": {},
   "source": [
    "### q7: Try to write a function which can perform a read operation from .txt file."
   ]
  },
  {
   "cell_type": "markdown",
   "id": "073f196c",
   "metadata": {},
   "source": [
    "##### SOLUTION: "
   ]
  },
  {
   "cell_type": "code",
   "execution_count": 3,
   "id": "1d0c1186",
   "metadata": {},
   "outputs": [],
   "source": [
    "def open_txt():\n",
    "    '''Perfroms a read operation from .txt file'''\n",
    "    f = open(\"Hello.txt\", \"r\")\n",
    "    print(f.read())\n",
    "    f.close()"
   ]
  },
  {
   "cell_type": "code",
   "execution_count": 18,
   "id": "bbef818b",
   "metadata": {},
   "outputs": [
    {
     "name": "stdout",
     "output_type": "stream",
     "text": [
      "Hello World!\n",
      "This is my first function to open a .txt file in python.\n",
      "Thank You & Goodbye!\n"
     ]
    }
   ],
   "source": [
    "open_txt()"
   ]
  },
  {
   "cell_type": "code",
   "execution_count": 3,
   "id": "1ed26c6f",
   "metadata": {},
   "outputs": [],
   "source": [
    "def open_txt():\n",
    "    f = open(str(input(\"Enter the .txt file you want to read: \")), \"r\")\n",
    "    print(f.read())\n",
    "    f.close()"
   ]
  },
  {
   "cell_type": "code",
   "execution_count": 21,
   "id": "ad3dec9c",
   "metadata": {},
   "outputs": [
    {
     "name": "stdout",
     "output_type": "stream",
     "text": [
      "Enter the .txt file you want to read: task.txt\n",
      "Today's task:\n",
      "q1: Try to print a prime number in between 1 to 1000.\n",
      "q2: Try to write a function which is equivalent to print function in python.\n",
      "q3: Try to write a function which is a replica of list append, extend and pop function.\n",
      "q4: Try to write a lambda function which can return a concatination of all the string that we will pass.\n",
      "q5: Try to write a lambda function which can return list of square of all the data between 1 - 100.\n",
      "q6: Try to write a 10 different-different example of lambda function with a choice of your tasks.\n",
      "q7: Try to write a function which can perform a read operation from .txt file.\n"
     ]
    }
   ],
   "source": [
    "open_txt()"
   ]
  },
  {
   "cell_type": "code",
   "execution_count": 4,
   "id": "59bfa735",
   "metadata": {},
   "outputs": [
    {
     "name": "stdout",
     "output_type": "stream",
     "text": [
      "Enter the .txt file you want to read: C:\\Users\\Computers\\Documents\\Document.txt\n",
      "hello\n"
     ]
    }
   ],
   "source": [
    "open_txt()"
   ]
  }
 ],
 "metadata": {
  "kernelspec": {
   "display_name": "Python 3 (ipykernel)",
   "language": "python",
   "name": "python3"
  },
  "language_info": {
   "codemirror_mode": {
    "name": "ipython",
    "version": 3
   },
   "file_extension": ".py",
   "mimetype": "text/x-python",
   "name": "python",
   "nbconvert_exporter": "python",
   "pygments_lexer": "ipython3",
   "version": "3.9.7"
  }
 },
 "nbformat": 4,
 "nbformat_minor": 5
}
