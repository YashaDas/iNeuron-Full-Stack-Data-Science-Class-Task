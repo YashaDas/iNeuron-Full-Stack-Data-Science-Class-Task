{
 "cells": [
  {
   "cell_type": "markdown",
   "id": "355008d8",
   "metadata": {},
   "source": [
    "### Task Assigned in Full Stack Data Science Class -- 24-07-2022"
   ]
  },
  {
   "cell_type": "markdown",
   "id": "1760af90",
   "metadata": {},
   "source": [
    "#### Mysql :"
   ]
  },
  {
   "cell_type": "code",
   "execution_count": 1,
   "id": "f3b1bec0",
   "metadata": {},
   "outputs": [
    {
     "name": "stdout",
     "output_type": "stream",
     "text": [
      "Requirement already satisfied: mysql-connector-python in c:\\users\\computers\\anaconda3\\lib\\site-packages (8.0.29)\n",
      "Requirement already satisfied: protobuf>=3.0.0 in c:\\users\\computers\\anaconda3\\lib\\site-packages (from mysql-connector-python) (4.21.3)\n"
     ]
    }
   ],
   "source": [
    "!pip install mysql-connector-python"
   ]
  },
  {
   "cell_type": "markdown",
   "id": "db5c43a4",
   "metadata": {},
   "source": [
    "#### 1. Create a  table attribute dataset and dress dataset."
   ]
  },
  {
   "cell_type": "markdown",
   "id": "deb1f963",
   "metadata": {},
   "source": [
    "#### Solution:"
   ]
  },
  {
   "cell_type": "code",
   "execution_count": null,
   "id": "34684b56",
   "metadata": {},
   "outputs": [],
   "source": [
    "show databases;\n",
    "create database task;\n",
    "use task;\n",
    "\n",
    "#Creating a table for Attribute Dataset\n",
    "create table if not exists attribute_data (\n",
    "dress_id int ,\n",
    "style varchar(30) , \n",
    "price varchar(30) , \n",
    "rating decimal (2,1) ,\n",
    "size varchar(30),\n",
    "season varchar(30),\n",
    "neckline varchar(30),\n",
    "sleevelength varchar(30) , \n",
    "waiseline varchar(30) ,\n",
    "material varchar(30) , \n",
    "fabrictype varchar(30) , \n",
    "decoration varchar(30) , \n",
    "patterntype varchar(30) , \n",
    "recommendation int\n",
    ");\n",
    "\n",
    "\n",
    "\n",
    "#Creating a table for Dress Sales\n",
    "create table if not exists dress_sales (\n",
    "dress_id int ,\n",
    "`29/8/2013` int , \n",
    "`31/8/2013` int , \n",
    "`2/9/2013` int ,\n",
    "`4/9/2013` int ,\n",
    "`6/9/2013` int,\n",
    "`8/9/2013` int,\n",
    "`10/9/2013` int , \n",
    "`12/9/2013` int ,\n",
    "`14/9/2013` int , \n",
    "`16/9/2013` int , \n",
    "`18/9/2013` int , \n",
    "`20/9/2013` int , \n",
    "`22/9/2013` int ,\n",
    "`24/9/2013` int ,\n",
    "`26/9/2013` int ,\n",
    "`28/9/2013` int ,\n",
    "`30/9/2013` int ,\n",
    "`2/10/2013` int ,\n",
    "`4/10/2013` int ,\n",
    "`6/10/2013` int ,\n",
    "`8/10/2013` int ,\n",
    "`10/10/2013` int ,\n",
    "`12/10/2013` int\n",
    ");"
   ]
  },
  {
   "cell_type": "markdown",
   "id": "4a61ea6e",
   "metadata": {},
   "source": [
    "#### 2. Do a bulk load for these two table for respective dataset."
   ]
  },
  {
   "cell_type": "markdown",
   "id": "8ca61514",
   "metadata": {},
   "source": [
    "#### Solution:"
   ]
  },
  {
   "cell_type": "code",
   "execution_count": null,
   "id": "55a5cf71",
   "metadata": {},
   "outputs": [],
   "source": [
    "#Inserting Attribute Dataset Records\n",
    "LOAD DATA INFILE '\\Attribute DataSet.csv' INTO TABLE attribute_data\n",
    "FIELDS TERMINATED BY ','\n",
    "ENCLOSED BY '\"'\n",
    "LINES TERMINATED BY '\\r\\n'\n",
    "IGNORE 1 LINES;\n",
    "\n",
    "\n",
    "select * from attribute_data;\n",
    "\n",
    "\n",
    "\n",
    "#Inserting Dress Sales Dataset Records\n",
    "LOAD DATA INFILE '\\Dress Sales.csv' INTO TABLE dress_sales\n",
    "FIELDS TERMINATED BY ','\n",
    "ENCLOSED BY '\"'\n",
    "LINES TERMINATED BY '\\r\\n'\n",
    "IGNORE 1 LINES;\n",
    "\n",
    "\n",
    "select * from dress_sales"
   ]
  },
  {
   "cell_type": "markdown",
   "id": "e27216a2",
   "metadata": {},
   "source": [
    "#### 3. Read these dataset in pandas as a dataframe."
   ]
  },
  {
   "cell_type": "markdown",
   "id": "41333ee8",
   "metadata": {},
   "source": [
    "#### Solution:"
   ]
  },
  {
   "cell_type": "code",
   "execution_count": null,
   "id": "7be0e449",
   "metadata": {},
   "outputs": [],
   "source": [
    "# Reading  Attribute Dataset and Dress Sales Dataset in pandas as a dataframe\n",
    "import mysql.connector as connection\n",
    "import pandas as pd\n",
    "\n",
    "\n",
    "mydb = connection.connect(host = \"localhost\", user = \"root\", passwd = \"password\")\n",
    "print(mydb)\n",
    "\n",
    "#Running SQL\n",
    "sql_query1 = pd.read_sql('select * from task.attribute_data', mydb)\n",
    "sql_query2 = pd.read_sql('select * from task.dress_sales', mydb)\n",
    "\n",
    "\n",
    "#Converting SQL to DataFrame\n",
    "attribute_data = pd.DataFrame(sql_query1, columns = ['dress_id', 'style', 'price','rating','size','season','neckline',\n",
    "                                        'sleevelength','waiseline','material','fabrictype','decoration',\n",
    "                                        'patterntype','recommendation'])\n",
    "\n",
    "dress_sales = pd.DataFrame(sql_query2, columns = ['dress_id','29/8/2013', '31/8/2013', '2/9/2013','4/9/2013','6/9/2013'\n",
    "                                                  ,'8/9/2013','10/9/2013','12/9/2013','14/9/2013','16/9/2013','18/9/2013'\n",
    "                                                  ,'20/9/2013','22/9/2013','24/9/2013','24/9/2013','26/9/2013','28/9/2013'\n",
    "                                                  ,'30/9/2013','2/10/2013','4/10/2013','6/10/2013','8/10/2013','10/10/2013'\n",
    "                                                  ,'12/10/2013'])\n",
    "\n",
    "\n",
    "print(attribute_data) \n",
    "print(dress_sales) "
   ]
  },
  {
   "cell_type": "markdown",
   "id": "4906bd1d",
   "metadata": {},
   "source": [
    "#### 4. Convert attribute dataset in json format. "
   ]
  },
  {
   "cell_type": "markdown",
   "id": "bdbf90f2",
   "metadata": {},
   "source": [
    "#### Solution:"
   ]
  },
  {
   "cell_type": "code",
   "execution_count": null,
   "id": "7f2d8ae9",
   "metadata": {},
   "outputs": [],
   "source": [
    "#Converting Attribute Dataset dataframe into json\n",
    "attribute_data_json = attribute_data.to_json()"
   ]
  },
  {
   "cell_type": "markdown",
   "id": "5546ccd9",
   "metadata": {},
   "source": [
    "#### 5. Store this dataset into mongodb."
   ]
  },
  {
   "cell_type": "markdown",
   "id": "cffd14d2",
   "metadata": {},
   "source": [
    "#### Solution:"
   ]
  },
  {
   "cell_type": "code",
   "execution_count": null,
   "id": "bf85a7d6",
   "metadata": {},
   "outputs": [],
   "source": [
    "#Storing JSON into MongoDB\n",
    "import pymongo\n",
    "import json\n",
    "from pymongo import MongoClient, InsertOne\n",
    "client = pymongo.MongoClient(\"mongodb+srv://yashadas:<password>@cluster0.yd8um.mongodb.net/?retryWrites=true&w=majority\")\n",
    "db = client.test\n",
    "\n",
    "\n",
    "database = client['Task']\n",
    "collection = database[\"Json\"]\n",
    "\n",
    "\n",
    "print(attribute_data_json)\n",
    "\n",
    "\n",
    "with open(r'\\attribute_data.json') as file:\n",
    "    file_data = json.load(file)\n",
    "\n",
    "\n",
    "if isinstance(file_data, list):\n",
    "    collection.insert_many(file_data)\n",
    "else:\n",
    "    collection.insert_one(file_data)"
   ]
  },
  {
   "cell_type": "markdown",
   "id": "e80e3028",
   "metadata": {},
   "source": [
    "#### 6. In sql task try to perform left join operation with attrubute dataset and dress dataset on column Dress_ID."
   ]
  },
  {
   "cell_type": "markdown",
   "id": "afee0156",
   "metadata": {},
   "source": [
    "#### Solution:"
   ]
  },
  {
   "cell_type": "code",
   "execution_count": null,
   "id": "edc5e5aa",
   "metadata": {},
   "outputs": [],
   "source": [
    "select * from attribute_data left join dress_sales on attribute_data.dress_id = dress_sales.dress_id;"
   ]
  },
  {
   "cell_type": "code",
   "execution_count": null,
   "id": "3dfda2c0",
   "metadata": {},
   "outputs": [],
   "source": [
    "joined_data = pd.merge(attribute_data,dress_sales,how = 'left',on = 'dress_id')\n",
    "print(joined_data)"
   ]
  },
  {
   "cell_type": "markdown",
   "id": "c4ac604d",
   "metadata": {},
   "source": [
    "#### 7. Write a sql query to find out how many unique dress that we have based on dress id."
   ]
  },
  {
   "cell_type": "markdown",
   "id": "1b8bda95",
   "metadata": {},
   "source": [
    "#### Solution:"
   ]
  },
  {
   "cell_type": "code",
   "execution_count": null,
   "id": "3ab52c61",
   "metadata": {},
   "outputs": [],
   "source": [
    "select count(distinct(dress_id)) from attribute_data;"
   ]
  },
  {
   "cell_type": "code",
   "execution_count": null,
   "id": "f147fbf7",
   "metadata": {},
   "outputs": [],
   "source": [
    "import mysql.connector as connection\n",
    "mydb = connection.connect(host = \"localhost\", user = \"root\", passwd = \"password\")\n",
    "cursor = mydb.cursor()\n",
    "cursor.execute(\"select count(distinct(dress_id)) from task.attribute_data\")\n",
    "for i in cursor.fetchall():\n",
    "    print(i)\n",
    "# The number of unique dresses that we have based in dress_id are 475"
   ]
  },
  {
   "cell_type": "markdown",
   "id": "517c270b",
   "metadata": {},
   "source": [
    "#### 8. Try to find out how mnay dress is having recommendation 0."
   ]
  },
  {
   "cell_type": "markdown",
   "id": "e1040483",
   "metadata": {},
   "source": [
    "#### Solution:"
   ]
  },
  {
   "cell_type": "code",
   "execution_count": null,
   "id": "26705d3b",
   "metadata": {},
   "outputs": [],
   "source": [
    "select count(*) from attribute_data where recommendation = 0;"
   ]
  },
  {
   "cell_type": "code",
   "execution_count": null,
   "id": "c1f377be",
   "metadata": {},
   "outputs": [],
   "source": [
    "print((attribute_data.recommendation == 0).sum())  \n",
    "# The number of dresses that is having recommendation 0 are 290."
   ]
  },
  {
   "cell_type": "markdown",
   "id": "01120870",
   "metadata": {},
   "source": [
    "#### 9. Try to find out total dress sell for individual dress id. "
   ]
  },
  {
   "cell_type": "markdown",
   "id": "c6fa13dc",
   "metadata": {},
   "source": [
    "#### Solution:"
   ]
  },
  {
   "cell_type": "code",
   "execution_count": null,
   "id": "356da9a7",
   "metadata": {},
   "outputs": [],
   "source": [
    "select dress_id, count(*), sum(dress_id) from dress_sales group by dress_id;"
   ]
  },
  {
   "cell_type": "code",
   "execution_count": null,
   "id": "c551b8c1",
   "metadata": {},
   "outputs": [],
   "source": [
    "#Creating Column Total Sales for each Dress ID\n",
    "dress_sales['Sales'] = dress_sales[['29/8/2013', '31/8/2013', '2/9/2013','4/9/2013','6/9/2013','8/9/2013','10/9/2013',\n",
    "                                        '12/9/2013','14/9/2013','16/9/2013','18/9/2013','20/9/2013','22/9/2013','24/9/2013'\n",
    "                                        ,'26/9/2013','28/9/2013','30/9/2013','2/10/2013','4/10/2013','6/10/2013',\n",
    "                                        '8/10/2013','10/10/2013','12/10/2013']].agg('sum', axis=1)\n",
    "\n",
    "#This will sum up the sales of each unique dress_id\n",
    "print(dress_sales.groupby('dress_id')['Sales'].sum())"
   ]
  },
  {
   "cell_type": "markdown",
   "id": "466cfe20",
   "metadata": {},
   "source": [
    "#### 10. Try to find out a third highest most selling dress id."
   ]
  },
  {
   "cell_type": "markdown",
   "id": "f9e45a6d",
   "metadata": {},
   "source": [
    "#### Solution:"
   ]
  },
  {
   "cell_type": "code",
   "execution_count": null,
   "id": "54360659",
   "metadata": {},
   "outputs": [],
   "source": [
    "SELECT DISTINCT SALES AS ThirdHighestSales\n",
    "FROM DRESS_SALES_TABLE\n",
    "ORDER BY SALES DESC\n",
    "LIMIT 1 \n",
    "OFFSET 2;\n",
    "\n",
    "# The third highest most selling dress_id is 75979"
   ]
  }
 ],
 "metadata": {
  "kernelspec": {
   "display_name": "Python 3 (ipykernel)",
   "language": "python",
   "name": "python3"
  },
  "language_info": {
   "codemirror_mode": {
    "name": "ipython",
    "version": 3
   },
   "file_extension": ".py",
   "mimetype": "text/x-python",
   "name": "python",
   "nbconvert_exporter": "python",
   "pygments_lexer": "ipython3",
   "version": "3.9.7"
  }
 },
 "nbformat": 4,
 "nbformat_minor": 5
}
