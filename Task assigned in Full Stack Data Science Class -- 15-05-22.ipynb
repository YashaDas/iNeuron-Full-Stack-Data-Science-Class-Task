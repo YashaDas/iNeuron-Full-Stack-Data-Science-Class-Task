{
 "cells": [
  {
   "cell_type": "markdown",
   "id": "a62ba9fc",
   "metadata": {},
   "source": [
    "# Task assigned in Full Stack Data Science Class -- 15-05-22"
   ]
  },
  {
   "cell_type": "markdown",
   "id": "f4d759fb",
   "metadata": {},
   "source": [
    "### s = \"this is My First Python programming class and i am learNING python string and its function\""
   ]
  },
  {
   "cell_type": "markdown",
   "id": "3b3fde1e",
   "metadata": {},
   "source": [
    "### 1 . Try to extract data from index one to index 300 with a jump of 3."
   ]
  },
  {
   "cell_type": "markdown",
   "id": "eeb7d00b",
   "metadata": {},
   "source": [
    "##### ANSWER:"
   ]
  },
  {
   "cell_type": "code",
   "execution_count": 1,
   "id": "2b686b27",
   "metadata": {},
   "outputs": [],
   "source": [
    "s = \"this is My First Python programming class and i am learNING python string and its function\""
   ]
  },
  {
   "cell_type": "code",
   "execution_count": 2,
   "id": "0ba27b51",
   "metadata": {},
   "outputs": [
    {
     "data": {
      "text/plain": [
       "'h   r tnrrmglsnimeNGyosi dtfco'"
      ]
     },
     "execution_count": 2,
     "metadata": {},
     "output_type": "execute_result"
    }
   ],
   "source": [
    "s[1:300:3]"
   ]
  },
  {
   "cell_type": "markdown",
   "id": "9f147a9a",
   "metadata": {},
   "source": [
    "### 2. Try to reverse a string without using reverse function."
   ]
  },
  {
   "cell_type": "markdown",
   "id": "65aca485",
   "metadata": {},
   "source": [
    "##### ANSWER: "
   ]
  },
  {
   "cell_type": "code",
   "execution_count": 3,
   "id": "94a8bce5",
   "metadata": {},
   "outputs": [
    {
     "data": {
      "text/plain": [
       "'noitcnuf sti dna gnirts nohtyp GNINrael ma i dna ssalc gnimmargorp nohtyP tsriF yM si siht'"
      ]
     },
     "execution_count": 3,
     "metadata": {},
     "output_type": "execute_result"
    }
   ],
   "source": [
    "s[::-1]"
   ]
  },
  {
   "cell_type": "markdown",
   "id": "ac312984",
   "metadata": {},
   "source": [
    "### 3. Try to split a string after conversion of entire string in uppercase."
   ]
  },
  {
   "cell_type": "markdown",
   "id": "2a7ef325",
   "metadata": {},
   "source": [
    "##### ANSWER: "
   ]
  },
  {
   "cell_type": "code",
   "execution_count": 4,
   "id": "2b87dffe",
   "metadata": {},
   "outputs": [
    {
     "data": {
      "text/plain": [
       "'THIS IS MY FIRST PYTHON PROGRAMMING CLASS AND I AM LEARNING PYTHON STRING AND ITS FUNCTION'"
      ]
     },
     "execution_count": 4,
     "metadata": {},
     "output_type": "execute_result"
    }
   ],
   "source": [
    "# converting the string in uppercase \n",
    "s.upper()"
   ]
  },
  {
   "cell_type": "code",
   "execution_count": 5,
   "id": "53b8967b",
   "metadata": {},
   "outputs": [
    {
     "data": {
      "text/plain": [
       "['this is My First Python progr',\n",
       " 'mming cl',\n",
       " 'ss ',\n",
       " 'nd i ',\n",
       " 'm le',\n",
       " 'rNING python string ',\n",
       " 'nd its function']"
      ]
     },
     "execution_count": 5,
     "metadata": {},
     "output_type": "execute_result"
    }
   ],
   "source": [
    "# then splitting the string \n",
    "s.split('a')"
   ]
  },
  {
   "cell_type": "markdown",
   "id": "6353223f",
   "metadata": {},
   "source": [
    "### 4. Try to convert the whole string into lower case. "
   ]
  },
  {
   "cell_type": "markdown",
   "id": "5eaaa254",
   "metadata": {},
   "source": [
    "##### ANSWER: "
   ]
  },
  {
   "cell_type": "code",
   "execution_count": 6,
   "id": "1c5dd1ba",
   "metadata": {},
   "outputs": [
    {
     "data": {
      "text/plain": [
       "'this is my first python programming class and i am learning python string and its function'"
      ]
     },
     "execution_count": 6,
     "metadata": {},
     "output_type": "execute_result"
    }
   ],
   "source": [
    "s.lower()"
   ]
  },
  {
   "cell_type": "markdown",
   "id": "fdda649e",
   "metadata": {},
   "source": [
    "### 5 . Try to capitalize the whole string. "
   ]
  },
  {
   "cell_type": "markdown",
   "id": "9acf649f",
   "metadata": {},
   "source": [
    "##### ANSWER: "
   ]
  },
  {
   "cell_type": "code",
   "execution_count": 7,
   "id": "59c66c50",
   "metadata": {},
   "outputs": [
    {
     "data": {
      "text/plain": [
       "'This is my first python programming class and i am learning python string and its function'"
      ]
     },
     "execution_count": 7,
     "metadata": {},
     "output_type": "execute_result"
    }
   ],
   "source": [
    "s.capitalize()"
   ]
  },
  {
   "cell_type": "markdown",
   "id": "016c6ec7",
   "metadata": {},
   "source": [
    "### 6 . Write a difference between isalnum() and isalpha()."
   ]
  },
  {
   "cell_type": "markdown",
   "id": "f76f6f18",
   "metadata": {},
   "source": [
    "##### ANSWER: "
   ]
  },
  {
   "cell_type": "markdown",
   "id": "a3a75ec6",
   "metadata": {},
   "source": [
    "##### The following is the difference between isalnum() and isalpha(): \n",
    "\n",
    "\n",
    "\n",
    "-  isalnum() : This method returns true if all characters of a string are only alphabets (between ‘A’ to ‘Z’ and between                      ‘a’ to ‘z’). If there is any non alphabet character in the string (like number, space, special characters),                    method returns false.\n",
    "\n",
    "\n",
    "\n",
    "- isalpha() : This method returns true if all characters of a string are either alphabets (between ‘A’ to ‘Z’ and between                     ‘a’ to ‘z’) or numbers (0 to 9) or both, otherwise if any of the character of the string is nither an                           alphabet or a number method returns false."
   ]
  },
  {
   "cell_type": "markdown",
   "id": "5e94b81b",
   "metadata": {},
   "source": [
    "### 7. Try to give an example of expand tab."
   ]
  },
  {
   "cell_type": "markdown",
   "id": "9f34dcb9",
   "metadata": {},
   "source": [
    "##### ANSWER:"
   ]
  },
  {
   "cell_type": "code",
   "execution_count": 8,
   "id": "7476fe02",
   "metadata": {},
   "outputs": [],
   "source": [
    "#Following is an example of expand tab\n",
    "exptab = \"abc\\tdef\\tghi\\tqwe\\trty\""
   ]
  },
  {
   "cell_type": "code",
   "execution_count": 9,
   "id": "dbac7e2c",
   "metadata": {},
   "outputs": [
    {
     "data": {
      "text/plain": [
       "'abc     def     ghi     qwe     rty'"
      ]
     },
     "execution_count": 9,
     "metadata": {},
     "output_type": "execute_result"
    }
   ],
   "source": [
    "exptab.expandtabs()"
   ]
  },
  {
   "cell_type": "markdown",
   "id": "bdda549c",
   "metadata": {},
   "source": [
    "### 8 . Give an example of strip , lstrip and rstrip."
   ]
  },
  {
   "cell_type": "markdown",
   "id": "776945bf",
   "metadata": {},
   "source": [
    "##### ANSWER:"
   ]
  },
  {
   "cell_type": "code",
   "execution_count": 10,
   "id": "54aafb5c",
   "metadata": {},
   "outputs": [],
   "source": [
    "# Example of strip, lstrip and rstrip\n",
    "s1 = \"     xyz     \""
   ]
  },
  {
   "cell_type": "code",
   "execution_count": 11,
   "id": "f645e947",
   "metadata": {},
   "outputs": [
    {
     "data": {
      "text/plain": [
       "'xyz'"
      ]
     },
     "execution_count": 11,
     "metadata": {},
     "output_type": "execute_result"
    }
   ],
   "source": [
    "# Example of strip\n",
    "s1.strip()"
   ]
  },
  {
   "cell_type": "code",
   "execution_count": 12,
   "id": "908f37a9",
   "metadata": {},
   "outputs": [
    {
     "data": {
      "text/plain": [
       "'xyz     '"
      ]
     },
     "execution_count": 12,
     "metadata": {},
     "output_type": "execute_result"
    }
   ],
   "source": [
    "# Example of lstrip\n",
    "s1.lstrip()"
   ]
  },
  {
   "cell_type": "code",
   "execution_count": 13,
   "id": "148b6b0b",
   "metadata": {},
   "outputs": [
    {
     "data": {
      "text/plain": [
       "'     xyz'"
      ]
     },
     "execution_count": 13,
     "metadata": {},
     "output_type": "execute_result"
    }
   ],
   "source": [
    "# Example of rstrip\n",
    "s1.rstrip()"
   ]
  },
  {
   "cell_type": "markdown",
   "id": "33b3b356",
   "metadata": {},
   "source": [
    "### 9.  Replace a string character by another character by taking your own example. (\"sudhanshu\")"
   ]
  },
  {
   "cell_type": "markdown",
   "id": "d5df0155",
   "metadata": {},
   "source": [
    "##### ANSWER: "
   ]
  },
  {
   "cell_type": "code",
   "execution_count": 14,
   "id": "e2a2630c",
   "metadata": {},
   "outputs": [],
   "source": [
    "s2 = \"datascyence\""
   ]
  },
  {
   "cell_type": "code",
   "execution_count": 15,
   "id": "92359ba3",
   "metadata": {},
   "outputs": [
    {
     "data": {
      "text/plain": [
       "'datascience'"
      ]
     },
     "execution_count": 15,
     "metadata": {},
     "output_type": "execute_result"
    }
   ],
   "source": [
    "s2.replace('y', 'i')"
   ]
  },
  {
   "cell_type": "markdown",
   "id": "ee26b6fa",
   "metadata": {},
   "source": [
    "### 10 . Try  to give a definition of string center function with and example."
   ]
  },
  {
   "cell_type": "markdown",
   "id": "1cba7102",
   "metadata": {},
   "source": [
    "##### ANSWER: "
   ]
  },
  {
   "cell_type": "markdown",
   "id": "0b1039d7",
   "metadata": {},
   "source": [
    "#### Definition \n",
    "- string.center() : This method will center align the string, using a specified character as the fill character, where space is default."
   ]
  },
  {
   "cell_type": "code",
   "execution_count": 16,
   "id": "dd7987bc",
   "metadata": {},
   "outputs": [],
   "source": [
    "# Example of string center function\n",
    "s3 = \"xyz\""
   ]
  },
  {
   "cell_type": "code",
   "execution_count": 17,
   "id": "38e4159f",
   "metadata": {},
   "outputs": [
    {
     "data": {
      "text/plain": [
       "'        xyz         '"
      ]
     },
     "execution_count": 17,
     "metadata": {},
     "output_type": "execute_result"
    }
   ],
   "source": [
    "s3.center(20)"
   ]
  },
  {
   "cell_type": "code",
   "execution_count": 18,
   "id": "71440c61",
   "metadata": {},
   "outputs": [],
   "source": [
    "s4 = \"adfghjkl\""
   ]
  },
  {
   "cell_type": "code",
   "execution_count": 19,
   "id": "3561fa68",
   "metadata": {},
   "outputs": [
    {
     "data": {
      "text/plain": [
       "'######adfghjkl######'"
      ]
     },
     "execution_count": 19,
     "metadata": {},
     "output_type": "execute_result"
    }
   ],
   "source": [
    "# Example of string center function using '#' as fill character\n",
    "s4.center(20, '#')"
   ]
  },
  {
   "cell_type": "markdown",
   "id": "a5e5b9f9",
   "metadata": {},
   "source": [
    "### 11 . Write your own definition of compiler and interpreter without copy paste form internet in your own language."
   ]
  },
  {
   "cell_type": "markdown",
   "id": "34cb2f94",
   "metadata": {},
   "source": [
    "##### ANSWER:"
   ]
  },
  {
   "cell_type": "markdown",
   "id": "11011144",
   "metadata": {},
   "source": [
    "##### Definition of Compiler \n",
    "- Complier -- A compiler is a computer program that converts the source code written in high-level languages (i.e., C, C++, etc.) into machine code (i.e., 0 and 1) that can be understood by the computer system. It translates the entire program at once and then runs it. It displays the errors only after the entire program is complied.\n",
    "\n",
    "\n",
    "\n",
    "##### Definition of Interpreter\n",
    "- Interpreter : An interpreter is a computer program that converts the source code written in high-level languages (i.e., PHP, Ruby, etc.) into machine code. It translates and runs the program statements line by line. It displays the errors immediately after each line is interpreted."
   ]
  },
  {
   "cell_type": "markdown",
   "id": "b0c9ff46",
   "metadata": {},
   "source": [
    "### 12 . Python is a interpreted or compiled language give a clear ans with your understanding. "
   ]
  },
  {
   "cell_type": "markdown",
   "id": "343ac958",
   "metadata": {},
   "source": [
    "##### ANSWER:"
   ]
  },
  {
   "cell_type": "markdown",
   "id": "4bde6868",
   "metadata": {},
   "source": [
    "Python is neither purely compiled nor an interpreted language but it is indeed called as an interpreted language, \n",
    "since in Python the source code is converted into machine code. \n",
    "In Python the program gets translated and executed line by line and the errors are also displayed immediately after code execution."
   ]
  },
  {
   "cell_type": "markdown",
   "id": "e04b70c2",
   "metadata": {},
   "source": [
    "### 13 . Try to write a usecase of python with your understanding."
   ]
  },
  {
   "cell_type": "markdown",
   "id": "78159715",
   "metadata": {},
   "source": [
    "##### ANSWER: "
   ]
  },
  {
   "cell_type": "code",
   "execution_count": null,
   "id": "a334562b",
   "metadata": {},
   "outputs": [],
   "source": []
  }
 ],
 "metadata": {
  "kernelspec": {
   "display_name": "Python 3 (ipykernel)",
   "language": "python",
   "name": "python3"
  },
  "language_info": {
   "codemirror_mode": {
    "name": "ipython",
    "version": 3
   },
   "file_extension": ".py",
   "mimetype": "text/x-python",
   "name": "python",
   "nbconvert_exporter": "python",
   "pygments_lexer": "ipython3",
   "version": "3.9.7"
  }
 },
 "nbformat": 4,
 "nbformat_minor": 5
}
