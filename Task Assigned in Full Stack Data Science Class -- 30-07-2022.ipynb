{
 "cells": [
  {
   "cell_type": "markdown",
   "id": "28767489",
   "metadata": {},
   "source": [
    "### Task Assigned in Full Stack Data Science Class -- 30-07-2022"
   ]
  },
  {
   "cell_type": "code",
   "execution_count": 2,
   "id": "5c0631bd",
   "metadata": {},
   "outputs": [],
   "source": [
    "import pandas as pd"
   ]
  },
  {
   "cell_type": "code",
   "execution_count": 3,
   "id": "ce7026cb",
   "metadata": {},
   "outputs": [
    {
     "name": "stderr",
     "output_type": "stream",
     "text": [
      "C:\\Users\\Computers\\anaconda3\\lib\\site-packages\\openpyxl\\styles\\stylesheet.py:226: UserWarning: Workbook contains no default style, apply openpyxl's default\n",
      "  warn(\"Workbook contains no default style, apply openpyxl's default\")\n"
     ]
    }
   ],
   "source": [
    "df_per = pd.read_excel(r'AgentPerformance.xlsx', header = 1)"
   ]
  },
  {
   "cell_type": "code",
   "execution_count": 4,
   "id": "a2fda2ff",
   "metadata": {},
   "outputs": [
    {
     "data": {
      "text/html": [
       "<div>\n",
       "<style scoped>\n",
       "    .dataframe tbody tr th:only-of-type {\n",
       "        vertical-align: middle;\n",
       "    }\n",
       "\n",
       "    .dataframe tbody tr th {\n",
       "        vertical-align: top;\n",
       "    }\n",
       "\n",
       "    .dataframe thead th {\n",
       "        text-align: right;\n",
       "    }\n",
       "</style>\n",
       "<table border=\"1\" class=\"dataframe\">\n",
       "  <thead>\n",
       "    <tr style=\"text-align: right;\">\n",
       "      <th></th>\n",
       "      <th>SL No</th>\n",
       "      <th>Date</th>\n",
       "      <th>Agent Name</th>\n",
       "      <th>Total Chats</th>\n",
       "      <th>Average Response Time</th>\n",
       "      <th>Average Resolution Time</th>\n",
       "      <th>Average Rating</th>\n",
       "      <th>Total Feedback</th>\n",
       "    </tr>\n",
       "  </thead>\n",
       "  <tbody>\n",
       "    <tr>\n",
       "      <th>0</th>\n",
       "      <td>1</td>\n",
       "      <td>2022-07-30</td>\n",
       "      <td>Prerna Singh</td>\n",
       "      <td>11</td>\n",
       "      <td>00:00:38</td>\n",
       "      <td>00:04:20</td>\n",
       "      <td>4.11</td>\n",
       "      <td>9</td>\n",
       "    </tr>\n",
       "    <tr>\n",
       "      <th>1</th>\n",
       "      <td>2</td>\n",
       "      <td>2022-07-30</td>\n",
       "      <td>Nandani Gupta</td>\n",
       "      <td>11</td>\n",
       "      <td>00:01:15</td>\n",
       "      <td>00:28:25</td>\n",
       "      <td>3.14</td>\n",
       "      <td>7</td>\n",
       "    </tr>\n",
       "    <tr>\n",
       "      <th>2</th>\n",
       "      <td>3</td>\n",
       "      <td>2022-07-30</td>\n",
       "      <td>Ameya Jain</td>\n",
       "      <td>14</td>\n",
       "      <td>00:00:30</td>\n",
       "      <td>00:11:36</td>\n",
       "      <td>4.55</td>\n",
       "      <td>11</td>\n",
       "    </tr>\n",
       "    <tr>\n",
       "      <th>3</th>\n",
       "      <td>4</td>\n",
       "      <td>2022-07-30</td>\n",
       "      <td>Mahesh Sarade</td>\n",
       "      <td>14</td>\n",
       "      <td>00:01:04</td>\n",
       "      <td>00:15:46</td>\n",
       "      <td>4.71</td>\n",
       "      <td>7</td>\n",
       "    </tr>\n",
       "    <tr>\n",
       "      <th>4</th>\n",
       "      <td>5</td>\n",
       "      <td>2022-07-30</td>\n",
       "      <td>Swati</td>\n",
       "      <td>14</td>\n",
       "      <td>00:01:11</td>\n",
       "      <td>00:16:33</td>\n",
       "      <td>3.67</td>\n",
       "      <td>6</td>\n",
       "    </tr>\n",
       "    <tr>\n",
       "      <th>...</th>\n",
       "      <td>...</td>\n",
       "      <td>...</td>\n",
       "      <td>...</td>\n",
       "      <td>...</td>\n",
       "      <td>...</td>\n",
       "      <td>...</td>\n",
       "      <td>...</td>\n",
       "      <td>...</td>\n",
       "    </tr>\n",
       "    <tr>\n",
       "      <th>2155</th>\n",
       "      <td>2156</td>\n",
       "      <td>2022-07-01</td>\n",
       "      <td>Sowmiya Sivakumar</td>\n",
       "      <td>0</td>\n",
       "      <td>00:00:00</td>\n",
       "      <td>00:00:00</td>\n",
       "      <td>0.00</td>\n",
       "      <td>0</td>\n",
       "    </tr>\n",
       "    <tr>\n",
       "      <th>2156</th>\n",
       "      <td>2157</td>\n",
       "      <td>2022-07-01</td>\n",
       "      <td>Nitin M</td>\n",
       "      <td>0</td>\n",
       "      <td>00:00:00</td>\n",
       "      <td>00:00:00</td>\n",
       "      <td>0.00</td>\n",
       "      <td>0</td>\n",
       "    </tr>\n",
       "    <tr>\n",
       "      <th>2157</th>\n",
       "      <td>2158</td>\n",
       "      <td>2022-07-01</td>\n",
       "      <td>Vivek</td>\n",
       "      <td>0</td>\n",
       "      <td>00:00:00</td>\n",
       "      <td>00:00:00</td>\n",
       "      <td>0.00</td>\n",
       "      <td>0</td>\n",
       "    </tr>\n",
       "    <tr>\n",
       "      <th>2158</th>\n",
       "      <td>2159</td>\n",
       "      <td>2022-07-01</td>\n",
       "      <td>Ayushi Mishra</td>\n",
       "      <td>0</td>\n",
       "      <td>00:00:00</td>\n",
       "      <td>00:00:00</td>\n",
       "      <td>0.00</td>\n",
       "      <td>0</td>\n",
       "    </tr>\n",
       "    <tr>\n",
       "      <th>2159</th>\n",
       "      <td>2160</td>\n",
       "      <td>2022-07-01</td>\n",
       "      <td>Chaitra K Hiremath</td>\n",
       "      <td>0</td>\n",
       "      <td>00:00:00</td>\n",
       "      <td>00:00:00</td>\n",
       "      <td>0.00</td>\n",
       "      <td>0</td>\n",
       "    </tr>\n",
       "  </tbody>\n",
       "</table>\n",
       "<p>2160 rows × 8 columns</p>\n",
       "</div>"
      ],
      "text/plain": [
       "      SL No        Date          Agent Name  Total Chats  \\\n",
       "0         1  2022-07-30        Prerna Singh           11   \n",
       "1         2  2022-07-30       Nandani Gupta           11   \n",
       "2         3  2022-07-30          Ameya Jain           14   \n",
       "3         4  2022-07-30       Mahesh Sarade           14   \n",
       "4         5  2022-07-30              Swati            14   \n",
       "...     ...         ...                 ...          ...   \n",
       "2155   2156  2022-07-01   Sowmiya Sivakumar            0   \n",
       "2156   2157  2022-07-01             Nitin M            0   \n",
       "2157   2158  2022-07-01              Vivek             0   \n",
       "2158   2159  2022-07-01       Ayushi Mishra            0   \n",
       "2159   2160  2022-07-01  Chaitra K Hiremath            0   \n",
       "\n",
       "     Average Response Time Average Resolution Time  Average Rating  \\\n",
       "0                 00:00:38                00:04:20            4.11   \n",
       "1                 00:01:15                00:28:25            3.14   \n",
       "2                 00:00:30                00:11:36            4.55   \n",
       "3                 00:01:04                00:15:46            4.71   \n",
       "4                 00:01:11                00:16:33            3.67   \n",
       "...                    ...                     ...             ...   \n",
       "2155              00:00:00                00:00:00            0.00   \n",
       "2156              00:00:00                00:00:00            0.00   \n",
       "2157              00:00:00                00:00:00            0.00   \n",
       "2158              00:00:00                00:00:00            0.00   \n",
       "2159              00:00:00                00:00:00            0.00   \n",
       "\n",
       "      Total Feedback  \n",
       "0                  9  \n",
       "1                  7  \n",
       "2                 11  \n",
       "3                  7  \n",
       "4                  6  \n",
       "...              ...  \n",
       "2155               0  \n",
       "2156               0  \n",
       "2157               0  \n",
       "2158               0  \n",
       "2159               0  \n",
       "\n",
       "[2160 rows x 8 columns]"
      ]
     },
     "execution_count": 4,
     "metadata": {},
     "output_type": "execute_result"
    }
   ],
   "source": [
    "df_per"
   ]
  },
  {
   "cell_type": "code",
   "execution_count": 5,
   "id": "19126908",
   "metadata": {},
   "outputs": [],
   "source": [
    "df_log = pd.read_excel(r'Agent_Login_Report.xls', header = 2)"
   ]
  },
  {
   "cell_type": "code",
   "execution_count": 6,
   "id": "e9bd39fd",
   "metadata": {},
   "outputs": [
    {
     "data": {
      "text/html": [
       "<div>\n",
       "<style scoped>\n",
       "    .dataframe tbody tr th:only-of-type {\n",
       "        vertical-align: middle;\n",
       "    }\n",
       "\n",
       "    .dataframe tbody tr th {\n",
       "        vertical-align: top;\n",
       "    }\n",
       "\n",
       "    .dataframe thead th {\n",
       "        text-align: right;\n",
       "    }\n",
       "</style>\n",
       "<table border=\"1\" class=\"dataframe\">\n",
       "  <thead>\n",
       "    <tr style=\"text-align: right;\">\n",
       "      <th></th>\n",
       "      <th>SL No</th>\n",
       "      <th>Agent</th>\n",
       "      <th>Date</th>\n",
       "      <th>Login Time</th>\n",
       "      <th>Logout Time</th>\n",
       "      <th>Duration</th>\n",
       "    </tr>\n",
       "  </thead>\n",
       "  <tbody>\n",
       "    <tr>\n",
       "      <th>0</th>\n",
       "      <td>1</td>\n",
       "      <td>Shivananda Sonwane</td>\n",
       "      <td>30-Jul-22</td>\n",
       "      <td>03:35:29 PM</td>\n",
       "      <td>05:39:39 PM</td>\n",
       "      <td>02:04:10</td>\n",
       "    </tr>\n",
       "    <tr>\n",
       "      <th>1</th>\n",
       "      <td>2</td>\n",
       "      <td>Khushboo Priya</td>\n",
       "      <td>30-Jul-22</td>\n",
       "      <td>03:06:59 PM</td>\n",
       "      <td>03:07:16 PM</td>\n",
       "      <td>00:00:17</td>\n",
       "    </tr>\n",
       "    <tr>\n",
       "      <th>2</th>\n",
       "      <td>3</td>\n",
       "      <td>Nandani Gupta</td>\n",
       "      <td>30-Jul-22</td>\n",
       "      <td>03:04:24 PM</td>\n",
       "      <td>05:31:07 PM</td>\n",
       "      <td>02:26:42</td>\n",
       "    </tr>\n",
       "    <tr>\n",
       "      <th>3</th>\n",
       "      <td>4</td>\n",
       "      <td>Hrisikesh Neogi</td>\n",
       "      <td>30-Jul-22</td>\n",
       "      <td>02:34:29 PM</td>\n",
       "      <td>03:19:35 PM</td>\n",
       "      <td>00:45:06</td>\n",
       "    </tr>\n",
       "    <tr>\n",
       "      <th>4</th>\n",
       "      <td>5</td>\n",
       "      <td>Mukesh</td>\n",
       "      <td>30-Jul-22</td>\n",
       "      <td>02:03:15 PM</td>\n",
       "      <td>03:11:52 PM</td>\n",
       "      <td>01:08:36</td>\n",
       "    </tr>\n",
       "    <tr>\n",
       "      <th>...</th>\n",
       "      <td>...</td>\n",
       "      <td>...</td>\n",
       "      <td>...</td>\n",
       "      <td>...</td>\n",
       "      <td>...</td>\n",
       "      <td>...</td>\n",
       "    </tr>\n",
       "    <tr>\n",
       "      <th>995</th>\n",
       "      <td>996</td>\n",
       "      <td>Manjunatha A</td>\n",
       "      <td>20-Jul-22</td>\n",
       "      <td>09:03:51 AM</td>\n",
       "      <td>03:02:28 PM</td>\n",
       "      <td>05:58:37</td>\n",
       "    </tr>\n",
       "    <tr>\n",
       "      <th>996</th>\n",
       "      <td>997</td>\n",
       "      <td>Bharath</td>\n",
       "      <td>20-Jul-22</td>\n",
       "      <td>09:00:49 AM</td>\n",
       "      <td>03:01:32 PM</td>\n",
       "      <td>06:00:43</td>\n",
       "    </tr>\n",
       "    <tr>\n",
       "      <th>997</th>\n",
       "      <td>998</td>\n",
       "      <td>Khushboo Priya</td>\n",
       "      <td>20-Jul-22</td>\n",
       "      <td>08:59:20 AM</td>\n",
       "      <td>02:26:55 PM</td>\n",
       "      <td>05:27:34</td>\n",
       "    </tr>\n",
       "    <tr>\n",
       "      <th>998</th>\n",
       "      <td>999</td>\n",
       "      <td>Nishtha Jain</td>\n",
       "      <td>20-Jul-22</td>\n",
       "      <td>08:43:55 AM</td>\n",
       "      <td>02:00:33 PM</td>\n",
       "      <td>05:16:38</td>\n",
       "    </tr>\n",
       "    <tr>\n",
       "      <th>999</th>\n",
       "      <td>1000</td>\n",
       "      <td>Tarun</td>\n",
       "      <td>01-Jul-22</td>\n",
       "      <td>01:52:47 AM</td>\n",
       "      <td>12:01:07 PM</td>\n",
       "      <td>514:08:20</td>\n",
       "    </tr>\n",
       "  </tbody>\n",
       "</table>\n",
       "<p>1000 rows × 6 columns</p>\n",
       "</div>"
      ],
      "text/plain": [
       "     SL No               Agent       Date   Login Time  Logout Time   Duration\n",
       "0        1  Shivananda Sonwane  30-Jul-22  03:35:29 PM  05:39:39 PM   02:04:10\n",
       "1        2      Khushboo Priya  30-Jul-22  03:06:59 PM  03:07:16 PM   00:00:17\n",
       "2        3       Nandani Gupta  30-Jul-22  03:04:24 PM  05:31:07 PM   02:26:42\n",
       "3        4     Hrisikesh Neogi  30-Jul-22  02:34:29 PM  03:19:35 PM   00:45:06\n",
       "4        5             Mukesh   30-Jul-22  02:03:15 PM  03:11:52 PM   01:08:36\n",
       "..     ...                 ...        ...          ...          ...        ...\n",
       "995    996        Manjunatha A  20-Jul-22  09:03:51 AM  03:02:28 PM   05:58:37\n",
       "996    997            Bharath   20-Jul-22  09:00:49 AM  03:01:32 PM   06:00:43\n",
       "997    998      Khushboo Priya  20-Jul-22  08:59:20 AM  02:26:55 PM   05:27:34\n",
       "998    999        Nishtha Jain  20-Jul-22  08:43:55 AM  02:00:33 PM   05:16:38\n",
       "999   1000              Tarun   01-Jul-22  01:52:47 AM  12:01:07 PM  514:08:20\n",
       "\n",
       "[1000 rows x 6 columns]"
      ]
     },
     "execution_count": 6,
     "metadata": {},
     "output_type": "execute_result"
    }
   ],
   "source": [
    "df_log"
   ]
  },
  {
   "cell_type": "code",
   "execution_count": null,
   "id": "d83bcd85",
   "metadata": {},
   "outputs": [],
   "source": [
    "# converting 'Date' column from Agent Performance dataset into datetime "
   ]
  },
  {
   "cell_type": "code",
   "execution_count": 7,
   "id": "739b738f",
   "metadata": {},
   "outputs": [],
   "source": [
    "df_per['converted_date'] = pd.to_datetime(df_per['Date'])"
   ]
  },
  {
   "cell_type": "code",
   "execution_count": 8,
   "id": "96beddc2",
   "metadata": {},
   "outputs": [
    {
     "data": {
      "text/html": [
       "<div>\n",
       "<style scoped>\n",
       "    .dataframe tbody tr th:only-of-type {\n",
       "        vertical-align: middle;\n",
       "    }\n",
       "\n",
       "    .dataframe tbody tr th {\n",
       "        vertical-align: top;\n",
       "    }\n",
       "\n",
       "    .dataframe thead th {\n",
       "        text-align: right;\n",
       "    }\n",
       "</style>\n",
       "<table border=\"1\" class=\"dataframe\">\n",
       "  <thead>\n",
       "    <tr style=\"text-align: right;\">\n",
       "      <th></th>\n",
       "      <th>SL No</th>\n",
       "      <th>Date</th>\n",
       "      <th>Agent Name</th>\n",
       "      <th>Total Chats</th>\n",
       "      <th>Average Response Time</th>\n",
       "      <th>Average Resolution Time</th>\n",
       "      <th>Average Rating</th>\n",
       "      <th>Total Feedback</th>\n",
       "      <th>converted_date</th>\n",
       "    </tr>\n",
       "  </thead>\n",
       "  <tbody>\n",
       "    <tr>\n",
       "      <th>0</th>\n",
       "      <td>1</td>\n",
       "      <td>2022-07-30</td>\n",
       "      <td>Prerna Singh</td>\n",
       "      <td>11</td>\n",
       "      <td>00:00:38</td>\n",
       "      <td>00:04:20</td>\n",
       "      <td>4.11</td>\n",
       "      <td>9</td>\n",
       "      <td>2022-07-30</td>\n",
       "    </tr>\n",
       "    <tr>\n",
       "      <th>1</th>\n",
       "      <td>2</td>\n",
       "      <td>2022-07-30</td>\n",
       "      <td>Nandani Gupta</td>\n",
       "      <td>11</td>\n",
       "      <td>00:01:15</td>\n",
       "      <td>00:28:25</td>\n",
       "      <td>3.14</td>\n",
       "      <td>7</td>\n",
       "      <td>2022-07-30</td>\n",
       "    </tr>\n",
       "    <tr>\n",
       "      <th>2</th>\n",
       "      <td>3</td>\n",
       "      <td>2022-07-30</td>\n",
       "      <td>Ameya Jain</td>\n",
       "      <td>14</td>\n",
       "      <td>00:00:30</td>\n",
       "      <td>00:11:36</td>\n",
       "      <td>4.55</td>\n",
       "      <td>11</td>\n",
       "      <td>2022-07-30</td>\n",
       "    </tr>\n",
       "    <tr>\n",
       "      <th>3</th>\n",
       "      <td>4</td>\n",
       "      <td>2022-07-30</td>\n",
       "      <td>Mahesh Sarade</td>\n",
       "      <td>14</td>\n",
       "      <td>00:01:04</td>\n",
       "      <td>00:15:46</td>\n",
       "      <td>4.71</td>\n",
       "      <td>7</td>\n",
       "      <td>2022-07-30</td>\n",
       "    </tr>\n",
       "    <tr>\n",
       "      <th>4</th>\n",
       "      <td>5</td>\n",
       "      <td>2022-07-30</td>\n",
       "      <td>Swati</td>\n",
       "      <td>14</td>\n",
       "      <td>00:01:11</td>\n",
       "      <td>00:16:33</td>\n",
       "      <td>3.67</td>\n",
       "      <td>6</td>\n",
       "      <td>2022-07-30</td>\n",
       "    </tr>\n",
       "    <tr>\n",
       "      <th>...</th>\n",
       "      <td>...</td>\n",
       "      <td>...</td>\n",
       "      <td>...</td>\n",
       "      <td>...</td>\n",
       "      <td>...</td>\n",
       "      <td>...</td>\n",
       "      <td>...</td>\n",
       "      <td>...</td>\n",
       "      <td>...</td>\n",
       "    </tr>\n",
       "    <tr>\n",
       "      <th>2155</th>\n",
       "      <td>2156</td>\n",
       "      <td>2022-07-01</td>\n",
       "      <td>Sowmiya Sivakumar</td>\n",
       "      <td>0</td>\n",
       "      <td>00:00:00</td>\n",
       "      <td>00:00:00</td>\n",
       "      <td>0.00</td>\n",
       "      <td>0</td>\n",
       "      <td>2022-07-01</td>\n",
       "    </tr>\n",
       "    <tr>\n",
       "      <th>2156</th>\n",
       "      <td>2157</td>\n",
       "      <td>2022-07-01</td>\n",
       "      <td>Nitin M</td>\n",
       "      <td>0</td>\n",
       "      <td>00:00:00</td>\n",
       "      <td>00:00:00</td>\n",
       "      <td>0.00</td>\n",
       "      <td>0</td>\n",
       "      <td>2022-07-01</td>\n",
       "    </tr>\n",
       "    <tr>\n",
       "      <th>2157</th>\n",
       "      <td>2158</td>\n",
       "      <td>2022-07-01</td>\n",
       "      <td>Vivek</td>\n",
       "      <td>0</td>\n",
       "      <td>00:00:00</td>\n",
       "      <td>00:00:00</td>\n",
       "      <td>0.00</td>\n",
       "      <td>0</td>\n",
       "      <td>2022-07-01</td>\n",
       "    </tr>\n",
       "    <tr>\n",
       "      <th>2158</th>\n",
       "      <td>2159</td>\n",
       "      <td>2022-07-01</td>\n",
       "      <td>Ayushi Mishra</td>\n",
       "      <td>0</td>\n",
       "      <td>00:00:00</td>\n",
       "      <td>00:00:00</td>\n",
       "      <td>0.00</td>\n",
       "      <td>0</td>\n",
       "      <td>2022-07-01</td>\n",
       "    </tr>\n",
       "    <tr>\n",
       "      <th>2159</th>\n",
       "      <td>2160</td>\n",
       "      <td>2022-07-01</td>\n",
       "      <td>Chaitra K Hiremath</td>\n",
       "      <td>0</td>\n",
       "      <td>00:00:00</td>\n",
       "      <td>00:00:00</td>\n",
       "      <td>0.00</td>\n",
       "      <td>0</td>\n",
       "      <td>2022-07-01</td>\n",
       "    </tr>\n",
       "  </tbody>\n",
       "</table>\n",
       "<p>2160 rows × 9 columns</p>\n",
       "</div>"
      ],
      "text/plain": [
       "      SL No        Date          Agent Name  Total Chats  \\\n",
       "0         1  2022-07-30        Prerna Singh           11   \n",
       "1         2  2022-07-30       Nandani Gupta           11   \n",
       "2         3  2022-07-30          Ameya Jain           14   \n",
       "3         4  2022-07-30       Mahesh Sarade           14   \n",
       "4         5  2022-07-30              Swati            14   \n",
       "...     ...         ...                 ...          ...   \n",
       "2155   2156  2022-07-01   Sowmiya Sivakumar            0   \n",
       "2156   2157  2022-07-01             Nitin M            0   \n",
       "2157   2158  2022-07-01              Vivek             0   \n",
       "2158   2159  2022-07-01       Ayushi Mishra            0   \n",
       "2159   2160  2022-07-01  Chaitra K Hiremath            0   \n",
       "\n",
       "     Average Response Time Average Resolution Time  Average Rating  \\\n",
       "0                 00:00:38                00:04:20            4.11   \n",
       "1                 00:01:15                00:28:25            3.14   \n",
       "2                 00:00:30                00:11:36            4.55   \n",
       "3                 00:01:04                00:15:46            4.71   \n",
       "4                 00:01:11                00:16:33            3.67   \n",
       "...                    ...                     ...             ...   \n",
       "2155              00:00:00                00:00:00            0.00   \n",
       "2156              00:00:00                00:00:00            0.00   \n",
       "2157              00:00:00                00:00:00            0.00   \n",
       "2158              00:00:00                00:00:00            0.00   \n",
       "2159              00:00:00                00:00:00            0.00   \n",
       "\n",
       "      Total Feedback converted_date  \n",
       "0                  9     2022-07-30  \n",
       "1                  7     2022-07-30  \n",
       "2                 11     2022-07-30  \n",
       "3                  7     2022-07-30  \n",
       "4                  6     2022-07-30  \n",
       "...              ...            ...  \n",
       "2155               0     2022-07-01  \n",
       "2156               0     2022-07-01  \n",
       "2157               0     2022-07-01  \n",
       "2158               0     2022-07-01  \n",
       "2159               0     2022-07-01  \n",
       "\n",
       "[2160 rows x 9 columns]"
      ]
     },
     "execution_count": 8,
     "metadata": {},
     "output_type": "execute_result"
    }
   ],
   "source": [
    "df_per"
   ]
  },
  {
   "cell_type": "markdown",
   "id": "53597d74",
   "metadata": {},
   "source": [
    "#### 1. Find out there average rating on weekly basis keep this in a mind that they take two days of leave."
   ]
  },
  {
   "cell_type": "code",
   "execution_count": 33,
   "id": "79ee95a0",
   "metadata": {},
   "outputs": [
    {
     "data": {
      "text/plain": [
       "Agent Name\n",
       "Abhishek          0.000000\n",
       "Aditya            0.000000\n",
       "Aditya Shinde    12.275000\n",
       "Aditya_iot       15.990909\n",
       "Amersh            0.000000\n",
       "                   ...    \n",
       "Uday Mishra       0.000000\n",
       "Vasanth P         0.000000\n",
       "Vivek             3.413636\n",
       "Wasim            16.363636\n",
       "Zeeshan          15.593182\n",
       "Name: Average Rating, Length: 70, dtype: float64"
      ]
     },
     "execution_count": 33,
     "metadata": {},
     "output_type": "execute_result"
    }
   ],
   "source": [
    "# here no of weeks is 22/5 = 4.4\n",
    "\n",
    "df_per.groupby('Agent Name')['Average Rating'].sum()/ 4.4"
   ]
  },
  {
   "cell_type": "markdown",
   "id": "806d4199",
   "metadata": {},
   "source": [
    "#### 2. Total working days for each agents."
   ]
  },
  {
   "cell_type": "code",
   "execution_count": 34,
   "id": "9d7d360b",
   "metadata": {},
   "outputs": [
    {
     "data": {
      "text/plain": [
       "Agent Name\n",
       "Abhishek         30\n",
       "Aditya           30\n",
       "Aditya Shinde    30\n",
       "Aditya_iot       30\n",
       "Amersh           30\n",
       "                 ..\n",
       "Uday Mishra      30\n",
       "Vasanth P        30\n",
       "Vivek            30\n",
       "Wasim            30\n",
       "Zeeshan          30\n",
       "Name: converted_date, Length: 70, dtype: int64"
      ]
     },
     "execution_count": 34,
     "metadata": {},
     "output_type": "execute_result"
    }
   ],
   "source": [
    "df_per.groupby('Agent Name')['converted_date'].count()"
   ]
  },
  {
   "cell_type": "markdown",
   "id": "1250385f",
   "metadata": {},
   "source": [
    "#### 3. Total query that you have taken."
   ]
  },
  {
   "cell_type": "code",
   "execution_count": 35,
   "id": "abcdfc03",
   "metadata": {},
   "outputs": [
    {
     "data": {
      "text/plain": [
       "Agent Name\n",
       "Abhishek           0\n",
       "Aditya             0\n",
       "Aditya Shinde    277\n",
       "Aditya_iot       231\n",
       "Amersh             0\n",
       "                ... \n",
       "Uday Mishra        0\n",
       "Vasanth P          0\n",
       "Vivek             44\n",
       "Wasim            433\n",
       "Zeeshan          542\n",
       "Name: Total Chats, Length: 70, dtype: int64"
      ]
     },
     "execution_count": 35,
     "metadata": {},
     "output_type": "execute_result"
    }
   ],
   "source": [
    "df_per.groupby('Agent Name')['Total Chats'].sum()"
   ]
  },
  {
   "cell_type": "markdown",
   "id": "d9496950",
   "metadata": {},
   "source": [
    "#### 4. Total Feedback that you have received. "
   ]
  },
  {
   "cell_type": "code",
   "execution_count": 36,
   "id": "624eebe6",
   "metadata": {},
   "outputs": [
    {
     "data": {
      "text/plain": [
       "Agent Name\n",
       "Abhishek           0\n",
       "Aditya             0\n",
       "Aditya Shinde    153\n",
       "Aditya_iot       131\n",
       "Amersh             0\n",
       "                ... \n",
       "Uday Mishra        0\n",
       "Vasanth P          0\n",
       "Vivek             20\n",
       "Wasim            284\n",
       "Zeeshan          335\n",
       "Name: Total Feedback, Length: 70, dtype: int64"
      ]
     },
     "execution_count": 36,
     "metadata": {},
     "output_type": "execute_result"
    }
   ],
   "source": [
    "df_per.groupby('Agent Name')['Total Feedback'].sum()"
   ]
  },
  {
   "cell_type": "markdown",
   "id": "33f522a4",
   "metadata": {},
   "source": [
    "#### 5. A agent name who have average rating between 3.5 to 4"
   ]
  },
  {
   "cell_type": "code",
   "execution_count": 15,
   "id": "8216d083",
   "metadata": {},
   "outputs": [
    {
     "data": {
      "text/plain": [
       "4                    Swati \n",
       "10             Manjunatha A\n",
       "73      Boktiar Ahmed Bappy\n",
       "76            Prateek _iot \n",
       "78            Nandani Gupta\n",
       "               ...         \n",
       "1941         Jawala Prakash\n",
       "2018          Sanjeev Kumar\n",
       "2021          Aditya Shinde\n",
       "2023       Deepranjan Gupta\n",
       "2097          Sanjeev Kumar\n",
       "Name: Agent Name, Length: 111, dtype: object"
      ]
     },
     "execution_count": 15,
     "metadata": {},
     "output_type": "execute_result"
    }
   ],
   "source": [
    "df_per['Agent Name'][(df_per['Average Rating']>3.5) & (df_per['Average Rating']<=4)]"
   ]
  },
  {
   "cell_type": "markdown",
   "id": "77e5176b",
   "metadata": {},
   "source": [
    "#### 6. Agent name who have rating lesss then 3.5  "
   ]
  },
  {
   "cell_type": "code",
   "execution_count": 16,
   "id": "a36b3616",
   "metadata": {},
   "outputs": [
    {
     "data": {
      "text/plain": [
       "1            Nandani Gupta\n",
       "19        Hitesh Choudhary\n",
       "20              Sanjeevan \n",
       "21                Anirudh \n",
       "22        Shiva Srivastava\n",
       "               ...        \n",
       "2155     Sowmiya Sivakumar\n",
       "2156               Nitin M\n",
       "2157                Vivek \n",
       "2158         Ayushi Mishra\n",
       "2159    Chaitra K Hiremath\n",
       "Name: Agent Name, Length: 1474, dtype: object"
      ]
     },
     "execution_count": 16,
     "metadata": {},
     "output_type": "execute_result"
    }
   ],
   "source": [
    "df_per['Agent Name'][(df_per['Average Rating']<3.5)]"
   ]
  },
  {
   "cell_type": "markdown",
   "id": "e8441bf9",
   "metadata": {},
   "source": [
    "#### 7. Agent name who have rating more then 4.5 "
   ]
  },
  {
   "cell_type": "code",
   "execution_count": 17,
   "id": "ca8400dd",
   "metadata": {},
   "outputs": [
    {
     "data": {
      "text/plain": [
       "2               Ameya Jain\n",
       "3            Mahesh Sarade\n",
       "5                  Mukesh \n",
       "6          Saikumarreddy N\n",
       "7            Sanjeev Kumar\n",
       "               ...        \n",
       "2100        Shubham Sharma\n",
       "2101         Jaydeep Dixit\n",
       "2102    Shivananda Sonwane\n",
       "2103        Khushboo Priya\n",
       "2104       Hrisikesh Neogi\n",
       "Name: Agent Name, Length: 307, dtype: object"
      ]
     },
     "execution_count": 17,
     "metadata": {},
     "output_type": "execute_result"
    }
   ],
   "source": [
    "df_per['Agent Name'][(df_per['Average Rating']>4.5)]"
   ]
  },
  {
   "cell_type": "markdown",
   "id": "b8630ec9",
   "metadata": {},
   "source": [
    "#### 8. How many feedaback agents have received more then 4.5 average."
   ]
  },
  {
   "cell_type": "code",
   "execution_count": 40,
   "id": "b2781d40",
   "metadata": {},
   "outputs": [
    {
     "data": {
      "text/plain": [
       "Agent Name\n",
       "Abhishek         False\n",
       "Aditya           False\n",
       "Aditya Shinde     True\n",
       "Aditya_iot       False\n",
       "Amersh           False\n",
       "                 ...  \n",
       "Uday Mishra      False\n",
       "Vasanth P        False\n",
       "Vivek            False\n",
       "Wasim             True\n",
       "Zeeshan           True\n",
       "Name: Total Feedback, Length: 70, dtype: bool"
      ]
     },
     "execution_count": 40,
     "metadata": {},
     "output_type": "execute_result"
    }
   ],
   "source": [
    "df_per.groupby('Agent Name')['Total Feedback'].mean()>4.5"
   ]
  },
  {
   "cell_type": "code",
   "execution_count": 41,
   "id": "8fb048eb",
   "metadata": {},
   "outputs": [
    {
     "name": "stdout",
     "output_type": "stream",
     "text": [
      "34\n"
     ]
    }
   ],
   "source": [
    "# to count the total number of feedbacks where agents have recieved more than 4.5 average\n",
    "\n",
    "count = 0\n",
    "for i in df_per.groupby('Agent Name')['Total Feedback'].sum()/ 22 > 4.5:\n",
    "    if i == True:\n",
    "        count += 1\n",
    "print(count)"
   ]
  },
  {
   "cell_type": "markdown",
   "id": "55e6ef88",
   "metadata": {},
   "source": [
    "#### 9. Average weekly response time for each agent. "
   ]
  },
  {
   "cell_type": "code",
   "execution_count": 47,
   "id": "df5a3019",
   "metadata": {},
   "outputs": [],
   "source": [
    " df_per['Average Response Time']=pd.to_datetime(df_per['Average Response Time'])"
   ]
  },
  {
   "cell_type": "code",
   "execution_count": 48,
   "id": "e211729b",
   "metadata": {},
   "outputs": [],
   "source": [
    "df_per['Average_Response_Time_hour'] = df_per['Average Response Time'].dt.hour"
   ]
  },
  {
   "cell_type": "code",
   "execution_count": 49,
   "id": "aab8e512",
   "metadata": {},
   "outputs": [],
   "source": [
    "df_per['Average_Response_Time_minute'] = df_per['Average Response Time'].dt.minute"
   ]
  },
  {
   "cell_type": "code",
   "execution_count": 50,
   "id": "36b77044",
   "metadata": {},
   "outputs": [],
   "source": [
    "df_per['Average_Response_Time_second'] = df_per['Average Response Time'].dt.second"
   ]
  },
  {
   "cell_type": "code",
   "execution_count": 52,
   "id": "7dd220b7",
   "metadata": {},
   "outputs": [
    {
     "data": {
      "text/plain": [
       "Agent Name\n",
       "Abhishek           0.000000\n",
       "Aditya             0.000000\n",
       "Aditya Shinde    137.469697\n",
       "Aditya_iot        84.314394\n",
       "Amersh             0.000000\n",
       "                    ...    \n",
       "Uday Mishra        0.000000\n",
       "Vasanth P          0.000000\n",
       "Vivek             55.193182\n",
       "Wasim             83.829545\n",
       "Zeeshan          302.015152\n",
       "Length: 70, dtype: float64"
      ]
     },
     "execution_count": 52,
     "metadata": {},
     "output_type": "execute_result"
    }
   ],
   "source": [
    "# here weekly response time for each agent is in minutes\n",
    "\n",
    "((df_per.groupby('Agent Name')['Average_Response_Time_hour'].sum()*3600) +\n",
    "(df_per.groupby('Agent Name')['Average_Response_Time_minute'].sum()*60) +\n",
    "(df_per.groupby('Agent Name')['Average_Response_Time_second'].sum())/60)/4.4"
   ]
  },
  {
   "cell_type": "markdown",
   "id": "957a732f",
   "metadata": {},
   "source": [
    "#### 10. Average weekely resolution time for each agents."
   ]
  },
  {
   "cell_type": "code",
   "execution_count": 53,
   "id": "cfe705d1",
   "metadata": {},
   "outputs": [],
   "source": [
    "df_per['Average Resolution Time']=pd.to_datetime(df_per['Average Resolution Time'])"
   ]
  },
  {
   "cell_type": "code",
   "execution_count": 54,
   "id": "ae0bbb40",
   "metadata": {},
   "outputs": [],
   "source": [
    "df_per['Average_Resolution_Time_hour'] = df_per['Average Resolution Time'].dt.hour"
   ]
  },
  {
   "cell_type": "code",
   "execution_count": 55,
   "id": "87e71d6e",
   "metadata": {},
   "outputs": [],
   "source": [
    "df_per['Average_Resolution_Time_minute'] = df_per['Average Resolution Time'].dt.minute"
   ]
  },
  {
   "cell_type": "code",
   "execution_count": 56,
   "id": "75474aec",
   "metadata": {},
   "outputs": [],
   "source": [
    "df_per['Average_Resolution_Time_second'] = df_per['Average Resolution Time'].dt.second"
   ]
  },
  {
   "cell_type": "code",
   "execution_count": 57,
   "id": "169a7d40",
   "metadata": {},
   "outputs": [
    {
     "data": {
      "text/plain": [
       "Agent Name\n",
       "Abhishek            0.000000\n",
       "Aditya              0.000000\n",
       "Aditya Shinde    4160.299242\n",
       "Aditya_iot       3888.556818\n",
       "Amersh              0.000000\n",
       "                    ...     \n",
       "Uday Mishra         0.000000\n",
       "Vasanth P           0.000000\n",
       "Vivek            1009.632576\n",
       "Wasim            4583.734848\n",
       "Zeeshan          4310.575758\n",
       "Length: 70, dtype: float64"
      ]
     },
     "execution_count": 57,
     "metadata": {},
     "output_type": "execute_result"
    }
   ],
   "source": [
    "# here weekely resolution time for each agents is in minutes\n",
    "\n",
    "((df_per.groupby('Agent Name')['Average_Resolution_Time_hour'].sum()*3600) +\n",
    "(df_per.groupby('Agent Name')['Average_Resolution_Time_minute'].sum()*60) +\n",
    "(df_per.groupby('Agent Name')['Average_Resolution_Time_second'].sum())/60)/4.4"
   ]
  },
  {
   "cell_type": "markdown",
   "id": "02e63e57",
   "metadata": {},
   "source": [
    "#### 11. List of all agents name."
   ]
  },
  {
   "cell_type": "code",
   "execution_count": 58,
   "id": "2e94444f",
   "metadata": {},
   "outputs": [
    {
     "data": {
      "text/plain": [
       "['Abhishek ',\n",
       " 'Aditya ',\n",
       " 'Aditya Shinde',\n",
       " 'Aditya_iot ',\n",
       " 'Amersh ',\n",
       " 'Ameya Jain',\n",
       " 'Anirudh ',\n",
       " 'Ankit Sharma',\n",
       " 'Ankitjha ',\n",
       " 'Anurag Tiwari',\n",
       " 'Aravind ',\n",
       " 'Ashad Nasim',\n",
       " 'Ashish ',\n",
       " 'Ayushi Mishra',\n",
       " 'Bharath ',\n",
       " 'Boktiar Ahmed Bappy',\n",
       " 'Chaitra K Hiremath',\n",
       " 'Deepranjan Gupta',\n",
       " 'Dibyanshu ',\n",
       " 'Harikrishnan Shaji',\n",
       " 'Hitesh Choudhary',\n",
       " 'Hrisikesh Neogi',\n",
       " 'Hyder Abbas',\n",
       " 'Ineuron Intelligence ',\n",
       " 'Ishawant Kumar',\n",
       " 'Jawala Prakash',\n",
       " 'Jayant Kumar',\n",
       " 'Jaydeep Dixit',\n",
       " 'Khushboo Priya',\n",
       " 'Madhulika G',\n",
       " 'Mahak ',\n",
       " 'Mahesh Sarade',\n",
       " 'Maitry ',\n",
       " 'Maneesh ',\n",
       " 'Manjunatha A',\n",
       " 'Mithun S',\n",
       " 'Mukesh ',\n",
       " 'Mukesh Rao ',\n",
       " 'Muskan Garg',\n",
       " 'Nandani Gupta',\n",
       " 'Nishtha Jain',\n",
       " 'Nitin M',\n",
       " 'Prabir Kumar Satapathy',\n",
       " 'Prateek _iot ',\n",
       " 'Prerna Singh',\n",
       " 'Rishav Dash',\n",
       " 'Rohan ',\n",
       " 'Saif Khan',\n",
       " 'Saikumarreddy N',\n",
       " 'Samprit ',\n",
       " 'Sandipan Saha',\n",
       " 'Sanjeev Kumar',\n",
       " 'Sanjeevan ',\n",
       " 'Saurabh Shukla',\n",
       " 'Shiva Srivastava',\n",
       " 'Shivan K',\n",
       " 'Shivan_S ',\n",
       " 'Shivananda Sonwane',\n",
       " 'Shubham Sharma',\n",
       " 'Sowmiya Sivakumar',\n",
       " 'Spuri ',\n",
       " 'Sudhanshu Kumar',\n",
       " 'Suraj S Bilgi',\n",
       " 'Swati ',\n",
       " 'Tarun ',\n",
       " 'Uday Mishra',\n",
       " 'Vasanth P',\n",
       " 'Vivek ',\n",
       " 'Wasim ',\n",
       " 'Zeeshan ']"
      ]
     },
     "execution_count": 58,
     "metadata": {},
     "output_type": "execute_result"
    }
   ],
   "source": [
    "sorted(list(df_per['Agent Name'].unique()))"
   ]
  },
  {
   "cell_type": "markdown",
   "id": "34b578ea",
   "metadata": {},
   "source": [
    "#### 12. Percentage of chat on which they have received a feedback."
   ]
  },
  {
   "cell_type": "code",
   "execution_count": 60,
   "id": "59ad4b9f",
   "metadata": {},
   "outputs": [
    {
     "data": {
      "text/plain": [
       "Agent Name     Total Chats\n",
       "Abhishek       0               0\n",
       "Aditya         0               0\n",
       "Aditya Shinde  0               0\n",
       "               8               7\n",
       "               14              9\n",
       "                              ..\n",
       "Zeeshan        36             28\n",
       "               37             25\n",
       "               41             25\n",
       "               46             28\n",
       "               92             35\n",
       "Name: Total Feedback, Length: 638, dtype: int64"
      ]
     },
     "execution_count": 60,
     "metadata": {},
     "output_type": "execute_result"
    }
   ],
   "source": [
    "df_per.groupby(['Agent Name','Total Chats'])['Total Feedback'].sum()"
   ]
  },
  {
   "cell_type": "code",
   "execution_count": 61,
   "id": "119c30b9",
   "metadata": {},
   "outputs": [
    {
     "data": {
      "text/plain": [
       "Agent Name\n",
       "Abhishek               NaN\n",
       "Aditya                 NaN\n",
       "Aditya Shinde    44.765343\n",
       "Aditya_iot       43.290043\n",
       "Amersh                 NaN\n",
       "                   ...    \n",
       "Uday Mishra            NaN\n",
       "Vasanth P              NaN\n",
       "Vivek            54.545455\n",
       "Wasim            34.411085\n",
       "Zeeshan          38.191882\n",
       "Length: 70, dtype: float64"
      ]
     },
     "execution_count": 61,
     "metadata": {},
     "output_type": "execute_result"
    }
   ],
   "source": [
    "# percentage of chat on which they have received a feedback = ((total chats - total feedbacks)/total chats)*100\n",
    "\n",
    "((\n",
    "        ((df_per.groupby('Agent Name')['Total Chats'].sum())-(df_per.groupby('Agent Name')['Total Feedback'].sum()))/\n",
    "        (df_per.groupby('Agent Name')['Total Chats'].sum())\n",
    "))*100"
   ]
  },
  {
   "cell_type": "markdown",
   "id": "10ed9373",
   "metadata": {},
   "source": [
    "#### 13. Total contributation hour for each and every agents weekly basis. "
   ]
  },
  {
   "cell_type": "code",
   "execution_count": 62,
   "id": "10077903",
   "metadata": {},
   "outputs": [],
   "source": [
    "df_log['modified_Duration']=(pd.to_datetime(df_log.Date) + pd.to_timedelta(df_log.Duration))"
   ]
  },
  {
   "cell_type": "code",
   "execution_count": 63,
   "id": "0a8bc368",
   "metadata": {},
   "outputs": [],
   "source": [
    "df_log['Duration_hour'] = df_log['modified_Duration'].dt.hour"
   ]
  },
  {
   "cell_type": "code",
   "execution_count": 64,
   "id": "b97d9fbe",
   "metadata": {},
   "outputs": [],
   "source": [
    "df_log['Duration_minute'] =df_log['modified_Duration'].dt.minute"
   ]
  },
  {
   "cell_type": "code",
   "execution_count": 65,
   "id": "c3c52b1f",
   "metadata": {},
   "outputs": [],
   "source": [
    "df_log['Duration_second'] = df_log['modified_Duration'].dt.second"
   ]
  },
  {
   "cell_type": "code",
   "execution_count": 66,
   "id": "0ad560ed",
   "metadata": {},
   "outputs": [
    {
     "data": {
      "text/plain": [
       "Agent\n",
       "Aditya Shinde              0.008207\n",
       "Aditya_iot                 3.575253\n",
       "Amersh                     0.696338\n",
       "Ameya Jain                 9.562626\n",
       "Ankitjha                   0.515215\n",
       "Anurag Tiwari              0.631566\n",
       "Aravind                    5.522538\n",
       "Ayushi Mishra              8.664015\n",
       "Bharath                   10.926515\n",
       "Boktiar Ahmed Bappy        9.151957\n",
       "Chaitra K Hiremath         7.801263\n",
       "Deepranjan Gupta          24.153472\n",
       "Dibyanshu                 11.953598\n",
       "Harikrishnan Shaji        12.207891\n",
       "Hrisikesh Neogi           13.083775\n",
       "Hyder Abbas                0.088194\n",
       "Ineuron Intelligence       0.329230\n",
       "Ishawant Kumar            11.767929\n",
       "Jawala Prakash            10.545960\n",
       "Jaydeep Dixit              8.145581\n",
       "Khushboo Priya             9.899684\n",
       "Madhulika G               10.468245\n",
       "Mahesh Sarade              9.754987\n",
       "Maitry                     7.032955\n",
       "Manjunatha A               9.380619\n",
       "Mithun S                  10.266730\n",
       "Mukesh                     2.023864\n",
       "Muskan Garg                3.939899\n",
       "Nandani Gupta              9.130051\n",
       "Nishtha Jain               9.966540\n",
       "Nitin M                    0.181566\n",
       "Prabir Kumar Satapathy     7.585732\n",
       "Prateek _iot               4.185922\n",
       "Prerna Singh              10.389899\n",
       "Rishav Dash                9.494444\n",
       "Saikumarreddy N            9.803977\n",
       "Sanjeev Kumar             10.156187\n",
       "Saurabh Shukla             3.787058\n",
       "Shiva Srivastava           3.407765\n",
       "Shivan K                   8.205051\n",
       "Shivananda Sonwane        11.201768\n",
       "Shubham Sharma            12.226894\n",
       "Sowmiya Sivakumar         10.171402\n",
       "Sudhanshu Kumar           10.507071\n",
       "Suraj S Bilgi              2.854356\n",
       "Swati                      5.682071\n",
       "Tarun                      2.304293\n",
       "Wasim                     10.949811\n",
       "Zeeshan                   11.156503\n",
       "dtype: float64"
      ]
     },
     "execution_count": 66,
     "metadata": {},
     "output_type": "execute_result"
    }
   ],
   "source": [
    "((df_log.groupby('Agent')['Duration_hour'].sum()) +\n",
    "(df_log.groupby('Agent')['Duration_minute'].sum()/60) +\n",
    "(df_log.groupby('Agent')['Duration_second'].sum())/3600)/4.4"
   ]
  },
  {
   "cell_type": "markdown",
   "id": "8c088bff",
   "metadata": {},
   "source": [
    "#### 14. Total percentage of active hour for a month."
   ]
  },
  {
   "cell_type": "code",
   "execution_count": 67,
   "id": "fbd2f634",
   "metadata": {},
   "outputs": [
    {
     "data": {
      "text/plain": [
       "Agent\n",
       "Aditya Shinde              0.023449\n",
       "Aditya_iot                10.215007\n",
       "Amersh                     1.989538\n",
       "Ameya Jain                27.321789\n",
       "Ankitjha                   1.472042\n",
       "Anurag Tiwari              1.804473\n",
       "Aravind                   15.778680\n",
       "Ayushi Mishra             24.754329\n",
       "Bharath                   31.218615\n",
       "Boktiar Ahmed Bappy       26.148449\n",
       "Chaitra K Hiremath        22.289322\n",
       "Deepranjan Gupta          69.009921\n",
       "Dibyanshu                 34.153139\n",
       "Harikrishnan Shaji        34.879690\n",
       "Hrisikesh Neogi           37.382215\n",
       "Hyder Abbas                0.251984\n",
       "Ineuron Intelligence       0.940657\n",
       "Ishawant Kumar            33.622655\n",
       "Jawala Prakash            30.131313\n",
       "Jaydeep Dixit             23.273088\n",
       "Khushboo Priya            28.284812\n",
       "Madhulika G               29.909271\n",
       "Mahesh Sarade             27.871392\n",
       "Maitry                    20.094156\n",
       "Manjunatha A              26.801768\n",
       "Mithun S                  29.333514\n",
       "Mukesh                     5.782468\n",
       "Muskan Garg               11.256854\n",
       "Nandani Gupta             26.085859\n",
       "Nishtha Jain              28.475830\n",
       "Nitin M                    0.518759\n",
       "Prabir Kumar Satapathy    21.673521\n",
       "Prateek _iot              11.959776\n",
       "Prerna Singh              29.685426\n",
       "Rishav Dash               27.126984\n",
       "Saikumarreddy N           28.011364\n",
       "Sanjeev Kumar             29.017677\n",
       "Saurabh Shukla            10.820166\n",
       "Shiva Srivastava           9.736472\n",
       "Shivan K                  23.443001\n",
       "Shivananda Sonwane        32.005051\n",
       "Shubham Sharma            34.933983\n",
       "Sowmiya Sivakumar         29.061147\n",
       "Sudhanshu Kumar           30.020202\n",
       "Suraj S Bilgi              8.155303\n",
       "Swati                     16.234488\n",
       "Tarun                      6.583694\n",
       "Wasim                     31.285173\n",
       "Zeeshan                   31.875722\n",
       "dtype: float64"
      ]
     },
     "execution_count": 67,
     "metadata": {},
     "output_type": "execute_result"
    }
   ],
   "source": [
    "# considering 7 active hours in a day so in 22 days total active hours = 154\n",
    "\n",
    "(((df_log.groupby('Agent')['Duration_hour'].sum()) +\n",
    "(df_log.groupby('Agent')['Duration_minute'].sum()/60) +\n",
    "(df_log.groupby('Agent')['Duration_second'].sum())/3600)/154)*100"
   ]
  }
 ],
 "metadata": {
  "kernelspec": {
   "display_name": "Python 3 (ipykernel)",
   "language": "python",
   "name": "python3"
  },
  "language_info": {
   "codemirror_mode": {
    "name": "ipython",
    "version": 3
   },
   "file_extension": ".py",
   "mimetype": "text/x-python",
   "name": "python",
   "nbconvert_exporter": "python",
   "pygments_lexer": "ipython3",
   "version": "3.9.7"
  }
 },
 "nbformat": 4,
 "nbformat_minor": 5
}
